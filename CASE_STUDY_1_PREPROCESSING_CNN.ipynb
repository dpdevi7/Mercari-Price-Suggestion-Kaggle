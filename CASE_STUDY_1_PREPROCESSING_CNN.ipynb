{
  "nbformat": 4,
  "nbformat_minor": 0,
  "metadata": {
    "accelerator": "GPU",
    "colab": {
      "name": "CASE_STUDY_1_PREPROCESSING_CNN.ipynb",
      "provenance": [],
      "collapsed_sections": [
        "ZAwN0jEgbJKu",
        "aKzi4IMKbOrL",
        "9n4S544DZVmu",
        "rYKS3Rp9ZVmz",
        "MRQjXEflZVm2",
        "s7EV3_NHZVm6",
        "xGBuYFvuZVm7",
        "8KOKyQndZVm-"
      ],
      "toc_visible": true
    },
    "kernelspec": {
      "display_name": "Python 3",
      "language": "python",
      "name": "python3"
    }
  },
  "cells": [
    {
      "cell_type": "markdown",
      "metadata": {
        "id": "ZAwN0jEgbJKu"
      },
      "source": [
        "# Mount Google Drive"
      ]
    },
    {
      "cell_type": "code",
      "metadata": {
        "colab": {
          "base_uri": "https://localhost:8080/"
        },
        "id": "JYFJdhzIbHJs",
        "outputId": "18683b75-8ea6-4615-f0b4-a3cff018a550"
      },
      "source": [
        "from google.colab import drive\n",
        "drive.mount('/content/drive')"
      ],
      "execution_count": null,
      "outputs": [
        {
          "output_type": "stream",
          "text": [
            "Drive already mounted at /content/drive; to attempt to forcibly remount, call drive.mount(\"/content/drive\", force_remount=True).\n"
          ],
          "name": "stdout"
        }
      ]
    },
    {
      "cell_type": "markdown",
      "metadata": {
        "id": "aKzi4IMKbOrL"
      },
      "source": [
        "# Dependencies"
      ]
    },
    {
      "cell_type": "code",
      "metadata": {
        "colab": {
          "base_uri": "https://localhost:8080/"
        },
        "id": "IZJULIROrNzD",
        "outputId": "e303e20e-222b-467e-eb49-cf972a00e89a"
      },
      "source": [
        "!pip install unidecode"
      ],
      "execution_count": null,
      "outputs": [
        {
          "output_type": "stream",
          "text": [
            "Requirement already satisfied: unidecode in /usr/local/lib/python3.6/dist-packages (1.1.2)\n"
          ],
          "name": "stdout"
        }
      ]
    },
    {
      "cell_type": "code",
      "metadata": {
        "colab": {
          "base_uri": "https://localhost:8080/"
        },
        "id": "V6agNuvoZVmj",
        "outputId": "4c5bb972-d074-44e3-f998-5e90aa669eb2"
      },
      "source": [
        "train_df_path           = \"data/train.tsv\"\n",
        "test_df_path            = \"data/test.tsv\"\n",
        "test_stage_2_df_path    = \"data/test_stg2.tsv\"\n",
        "\n",
        "import warnings\n",
        "warnings.filterwarnings('ignore')\n",
        "\n",
        "import pandas as pd\n",
        "import numpy as np\n",
        "import matplotlib.pyplot as plt\n",
        "import seaborn as sns\n",
        "from tqdm import tqdm\n",
        "import regex as re\n",
        "import unidecode\n",
        "import nltk\n",
        "from nltk.sentiment.vader import SentimentIntensityAnalyzer\n",
        "import time\n",
        "from nltk.stem import PorterStemmer \n",
        "import sklearn\n",
        "from sklearn.feature_extraction.text import CountVectorizer, TfidfVectorizer\n",
        "from sklearn.preprocessing import OneHotEncoder, Normalizer, LabelEncoder\n",
        "from sklearn.model_selection import train_test_split\n",
        "import scipy\n",
        "from scipy.sparse import csr_matrix\n",
        "from nltk import word_tokenize, pos_tag, ne_chunk\n",
        "from sklearn.linear_model import LinearRegression\n",
        "from sklearn.linear_model import Ridge\n",
        "from sklearn.linear_model import Ridge, LogisticRegression\n",
        "from sklearn.metrics import mean_squared_error\n",
        "from sklearn.model_selection import GridSearchCV\n",
        "import tensorflow as tf\n",
        "from tensorflow import keras\n",
        "import itertools\n",
        "import multiprocessing\n",
        "from multiprocessing import Pool\n",
        "from sklearn.model_selection import train_test_split\n",
        "from scipy.sparse import hstack\n",
        "import gc\n",
        "\n",
        "num_cores = multiprocessing.cpu_count()\n",
        "num_cores\n"
      ],
      "execution_count": null,
      "outputs": [
        {
          "output_type": "execute_result",
          "data": {
            "text/plain": [
              "2"
            ]
          },
          "metadata": {
            "tags": []
          },
          "execution_count": 3
        }
      ]
    },
    {
      "cell_type": "markdown",
      "metadata": {
        "id": "9n4S544DZVmu"
      },
      "source": [
        "# Data Reading"
      ]
    },
    {
      "cell_type": "code",
      "metadata": {
        "id": "GE84PHmAZVmv"
      },
      "source": [
        "df  = pd.read_table(\"/content/drive/MyDrive/CASE STUDY - 1/data/train.tsv\")\n",
        "# test_df   = pd.read_table(\"data/test.tsv\")\n",
        "# test_2_df = pd.read_table(\"data/test_stg2.tsv\")\n",
        "# submission_1 = pd.read_csv(\"data/sample_submission.csv\")\n",
        "# submission_2 = pd.read_csv(\"data/sample_submission_stg2.csv\")"
      ],
      "execution_count": null,
      "outputs": []
    },
    {
      "cell_type": "code",
      "metadata": {
        "colab": {
          "base_uri": "https://localhost:8080/"
        },
        "id": "vY4FQph8ZVmx",
        "outputId": "6f119236-b0ee-4b81-827e-5cdc0ae37f4e"
      },
      "source": [
        "df.isnull().any()"
      ],
      "execution_count": null,
      "outputs": [
        {
          "output_type": "execute_result",
          "data": {
            "text/plain": [
              "train_id             False\n",
              "name                 False\n",
              "item_condition_id    False\n",
              "category_name         True\n",
              "brand_name            True\n",
              "price                False\n",
              "shipping             False\n",
              "item_description      True\n",
              "dtype: bool"
            ]
          },
          "metadata": {
            "tags": []
          },
          "execution_count": 5
        }
      ]
    },
    {
      "cell_type": "code",
      "metadata": {
        "colab": {
          "base_uri": "https://localhost:8080/"
        },
        "id": "cEUb5vuiZVmy",
        "outputId": "19230882-23d4-4bf1-b833-1f3202d03d9e"
      },
      "source": [
        "df['name'][619553]"
      ],
      "execution_count": null,
      "outputs": [
        {
          "output_type": "execute_result",
          "data": {
            "application/vnd.google.colaboratory.intrinsic+json": {
              "type": "string"
            },
            "text/plain": [
              "'4pcs sugar lip scrubs'"
            ]
          },
          "metadata": {
            "tags": []
          },
          "execution_count": 6
        }
      ]
    },
    {
      "cell_type": "code",
      "metadata": {
        "colab": {
          "base_uri": "https://localhost:8080/"
        },
        "id": "pXVVZFADZVmz",
        "outputId": "24a0a200-1c1a-4a4a-eb95-8a0eb2dc4c3b"
      },
      "source": [
        "num_cores = multiprocessing.cpu_count()\n",
        "num_cores"
      ],
      "execution_count": null,
      "outputs": [
        {
          "output_type": "execute_result",
          "data": {
            "text/plain": [
              "2"
            ]
          },
          "metadata": {
            "tags": []
          },
          "execution_count": 7
        }
      ]
    },
    {
      "cell_type": "code",
      "metadata": {
        "colab": {
          "base_uri": "https://localhost:8080/"
        },
        "id": "vf69u0qconbs",
        "outputId": "32f1ab69-f662-41f1-e966-e0c246ef5338"
      },
      "source": [
        "df.loc[1360970]"
      ],
      "execution_count": null,
      "outputs": [
        {
          "output_type": "execute_result",
          "data": {
            "text/plain": [
              "train_id                                           1360970\n",
              "name                                                     ✨\n",
              "item_condition_id                                        2\n",
              "category_name                            Women/Skirts/Mini\n",
              "brand_name                                 Brandy Melville\n",
              "price                                                   24\n",
              "shipping                                                 0\n",
              "item_description     •Perfect condition ! •FIRM #John Galt\n",
              "Name: 1360970, dtype: object"
            ]
          },
          "metadata": {
            "tags": []
          },
          "execution_count": 8
        }
      ]
    },
    {
      "cell_type": "markdown",
      "metadata": {
        "id": "rYKS3Rp9ZVmz"
      },
      "source": [
        "# Missing Values "
      ]
    },
    {
      "cell_type": "code",
      "metadata": {
        "id": "ad_Q0hBUeUgV"
      },
      "source": [
        "df['brand_name'].fillna(\"unknown\", inplace=True)\r\n",
        "\r\n",
        "df['category_name'].fillna(\"unknown/unknown/unknown\", inplace=True)\r\n",
        "\r\n",
        "df['item_description'].fillna(\"no description yet\", inplace=True)\r\n",
        "\r\n",
        "df['cat_1'] = df.category_name.str.split('/').str.get(0).astype('category')\r\n",
        "df['cat_2'] = df.category_name.str.split('/').str.get(1).astype('category')\r\n",
        "df['cat_3'] = df.category_name.str.split('/').str.get(2).astype('category')\r\n"
      ],
      "execution_count": null,
      "outputs": []
    },
    {
      "cell_type": "code",
      "metadata": {
        "id": "lbQ5vSQAeoq4"
      },
      "source": [
        "global setofBrands \r\n",
        "setofBrands = np.unique(df['brand_name'].astype(str).str.lower())\r\n",
        "\r\n",
        "\r\n",
        "global setofCat1\r\n",
        "setofCat1 = np.unique(df['cat_1'].astype(str).str.lower())\r\n",
        "\r\n",
        "global setofCat2\r\n",
        "setofCat2 = np.unique(df['cat_2'].astype(str).str.lower())\r\n",
        "\r\n",
        "global setofCat3\r\n",
        "setofCat3 = np.unique(df['cat_3'].astype(str).str.lower())"
      ],
      "execution_count": null,
      "outputs": []
    },
    {
      "cell_type": "code",
      "metadata": {
        "id": "kIK-27eDZVm1"
      },
      "source": [
        "# https://stackoverflow.com/questions/13331698/how-to-apply-a-function-to-two-columns-of-pandas-dataframe\n",
        "\n",
        "# concat cat_1, cat_2, cat_3 \n",
        "def concat_c1_c2_c3(c_1, c_2, c_3):\n",
        "    return c_1 + \"_\" + c_2 + \"_\" + c_3\n",
        "\n",
        "\n",
        "# filling missing cat_1 column from item_description and name\n",
        "def miss_cat1(row):\n",
        "    \n",
        "    cat1 = row['cat_1']\n",
        "    \n",
        "    if row['cat_1']=='unknown':\n",
        "        \n",
        "        for i in setofCat1:\n",
        "            if i in row['item_description'].lower():\n",
        "                \n",
        "                # print(\"1 desc {}\".format(i))\n",
        "                \n",
        "                cat1 = i\n",
        "                break\n",
        "            elif i in row['name'].lower():\n",
        "                \n",
        "                # print(\"1 name {}\".format(i))\n",
        "                \n",
        "                cat1 = i\n",
        "                break   \n",
        "    \n",
        "    return cat1\n",
        "\n",
        "\n",
        "## filling missing cat_2 column from item_description and name\n",
        "def miss_cat2(row):\n",
        "    \n",
        "    cat2 = row['cat_2']\n",
        "    \n",
        "    if row['cat_2']=='unknown':\n",
        "        \n",
        "        for i in setofCat2:\n",
        "            if i in row['item_description'].lower():\n",
        "                \n",
        "                # print(\"2 desc {}\".format(i))\n",
        "                \n",
        "                cat2 = i\n",
        "                break\n",
        "            elif i in row['name'].lower():\n",
        "                \n",
        "                # print(\"2 name {}\".format(i))\n",
        "                \n",
        "                cat2 = i\n",
        "                break   \n",
        "    \n",
        "    return cat2\n",
        "\n",
        "\n",
        "## filling missing cat_3 column from item_description and name\n",
        "def miss_cat3(row):\n",
        "    \n",
        "    cat3 = row['cat_3']\n",
        "    \n",
        "    if row['cat_3']=='unknown':\n",
        "        \n",
        "        for i in setofCat3:\n",
        "            if i in row['item_description'].lower():\n",
        "                \n",
        "                # print(\"3 desc {}\".format(i))\n",
        "                \n",
        "                cat3 = i\n",
        "                break\n",
        "            elif i in row['name'].lower():\n",
        "                \n",
        "                # print(\"3 name {}\".format(i))\n",
        "                \n",
        "                cat3 = i\n",
        "                break   \n",
        "    \n",
        "    return cat3\n",
        "    \n",
        "\n",
        "## get missing brand name from name and description\n",
        "def miss_brand(row):\n",
        "    \n",
        "    brand_name = row['brand_name']\n",
        "    desc = row['item_description'].lower()\n",
        "    name = row['name'].lower()\n",
        "    \n",
        "    if row['brand_name']=='unknown':\n",
        "        \n",
        "        for i in setofBrands:\n",
        "            if i in desc:\n",
        "                                \n",
        "                brand_name = i\n",
        "                break\n",
        "            elif i in name:\n",
        "                \n",
        "                brand_name = i\n",
        "                break   \n",
        "    \n",
        "    return brand_name\n",
        "\n",
        "\n",
        "def fill_missing_data(df):\n",
        "    \n",
        "    df['cat_1']         = df.apply(miss_cat1, axis=1)\n",
        "    df['cat_2']         = df.apply(miss_cat2, axis=1)\n",
        "    df['cat_3']         = df.apply(miss_cat3, axis=1)\n",
        "    df['brand_name']    = df.apply(miss_brand, axis=1)\n",
        "    df['category_name'] = df.apply(lambda x: concat_c1_c2_c3(str(x.cat_1), str(x.cat_2), str(x.cat_3)), axis=1)\n",
        "    \n",
        "    return df"
      ],
      "execution_count": null,
      "outputs": []
    },
    {
      "cell_type": "code",
      "metadata": {
        "id": "p669jSgqZVm1"
      },
      "source": [
        "\n",
        "def parallelize_dataframe(df, func):\n",
        "    df_split = np.array_split(df, num_cores)\n",
        "    with Pool(num_cores) as pool:\n",
        "        df = pd.concat(pool.map(func, df_split))\n",
        "    return df\n"
      ],
      "execution_count": null,
      "outputs": []
    },
    {
      "cell_type": "code",
      "metadata": {
        "colab": {
          "base_uri": "https://localhost:8080/"
        },
        "id": "cSSw1dHAZVm2",
        "outputId": "4b73c0a3-4106-4f90-c87a-f17dd0f692f9"
      },
      "source": [
        "%%time\n",
        "df = parallelize_dataframe(df, fill_missing_data)"
      ],
      "execution_count": null,
      "outputs": [
        {
          "output_type": "stream",
          "text": [
            "CPU times: user 3.87 s, sys: 1.3 s, total: 5.17 s\n",
            "Wall time: 3min 22s\n"
          ],
          "name": "stdout"
        }
      ]
    },
    {
      "cell_type": "markdown",
      "metadata": {
        "id": "MRQjXEflZVm2"
      },
      "source": [
        "# Cleaning"
      ]
    },
    {
      "cell_type": "code",
      "metadata": {
        "colab": {
          "base_uri": "https://localhost:8080/"
        },
        "id": "mt9xPyExtYbt",
        "outputId": "8ef56cb5-eefa-4012-bebe-403861953d50"
      },
      "source": [
        "df['item_description']"
      ],
      "execution_count": null,
      "outputs": [
        {
          "output_type": "execute_result",
          "data": {
            "text/plain": [
              "0                                         No description yet\n",
              "1          This keyboard is in great condition and works ...\n",
              "2          Adorable top with a hint of lace and a key hol...\n",
              "3          New with tags. Leather horses. Retail for [rm]...\n",
              "4                  Complete with certificate of authenticity\n",
              "                                 ...                        \n",
              "1482530    Lace, says size small but fits medium perfectl...\n",
              "1482531     Little mermaid handmade dress never worn size 2t\n",
              "1482532            Used once or twice, still in great shape.\n",
              "1482533    There is 2 of each one that you see! So 2 red ...\n",
              "1482534    New with tag, red with sparkle. Firm price, no...\n",
              "Name: item_description, Length: 1482535, dtype: object"
            ]
          },
          "metadata": {
            "tags": []
          },
          "execution_count": 14
        }
      ]
    },
    {
      "cell_type": "code",
      "metadata": {
        "id": "iZPaM38tZVm4"
      },
      "source": [
        "num_word_dict = {\n",
        "    \n",
        "    \"0\":\"zero\",\n",
        "    \"1\":\"one\",\n",
        "    \"2\":\"tow\",\n",
        "    \"3\":\"three\",\n",
        "    \"4\":\"four\",\n",
        "    \"5\":\"five\",\n",
        "    \"6\":\"six\",\n",
        "    \"7\":\"seven\",\n",
        "    \"8\":\"eight\",\n",
        "    \"9\":\"nine\",\n",
        "    '+':'plus'\n",
        "}\n",
        "\n",
        "def number_to_word(text):\n",
        "    sentence = ''\n",
        "    for letter in text:\n",
        "        try:\n",
        "            \n",
        "            if letter.isdigit():\n",
        "                sentence = sentence + ' ' + num_word_dict[letter]\n",
        "            else:\n",
        "                sentence = sentence + letter\n",
        "        except:\n",
        "            sentence = sentence + ''\n",
        "            \n",
        "    return sentence\n",
        "\n",
        "def accented_to_english(text):\n",
        "    return unidecode.unidecode(text)\n",
        "\n",
        "def fill_description(text):\n",
        "    if len(text) == 0:\n",
        "        return \"no description yet\"\n",
        "    else:\n",
        "        return text\n",
        "\n",
        "def fill_name(text):\n",
        "    if len(text) == 0:\n",
        "        return \"no name\"\n",
        "    else:\n",
        "        return text\n",
        "    \n",
        "def remove_stop_words(sent):\n",
        "    stopwords= ['i', 'me', 'my', 'myself', 'we', 'our', 'ours', 'ourselves', 'you', \"you're\", \"you've\",\\\n",
        "            \"you'll\", \"you'd\", 'your', 'yours', 'yourself', 'yourselves', 'he', 'him', 'his', 'himself', \\\n",
        "            'she', \"she's\", 'her', 'hers', 'herself', 'it', \"it's\", 'its', 'itself', 'they', 'them', 'their',\\\n",
        "            'theirs', 'themselves', 'what', 'which', 'who', 'whom', 'this', 'that', \"that'll\", 'these', 'those', \\\n",
        "            'am', 'is', 'are', 'was', 'were', 'be', 'been', 'being', 'have', 'has', 'had', 'having', 'do', 'does', \\\n",
        "            'did', 'doing', 'a', 'an', 'the', 'and', 'but', 'if', 'or', 'because', 'as', 'until', 'while', 'of', \\\n",
        "            'at', 'by', 'for', 'with', 'about', 'against', 'between', 'into', 'through', 'during', 'before', 'after',\\\n",
        "            'above', 'below', 'to', 'from', 'up', 'down', 'in', 'out', 'on', 'off', 'over', 'under', 'again', 'further',\\\n",
        "            'then', 'once', 'here', 'there', 'when', 'where', 'why', 'how', 'all', 'any', 'both', 'each', 'few', 'more',\\\n",
        "            'most', 'other', 'some', 'such', 'only', 'own', 'same', 'so', 'than', 'too', 'very', \\\n",
        "            's', 't', 'can', 'will', 'just', 'don', \"don't\", 'should', \"should've\", 'now', 'd', 'll', 'm', 'o', 're', \\\n",
        "            've', 'y', 'ain', 'aren', \"aren't\", 'couldn', \"couldn't\", 'didn', \"didn't\", 'doesn', \"doesn't\", 'hadn',\\\n",
        "            \"hadn't\", 'hasn', \"hasn't\", 'haven', \"haven't\", 'isn', \"isn't\", 'ma', 'mightn', \"mightn't\", 'mustn',\\\n",
        "            \"mustn't\", 'needn', \"needn't\", 'shan', \"shan't\", 'shouldn', \"shouldn't\", 'wasn', \"wasn't\", 'weren', \"weren't\", \\\n",
        "            'won', \"won't\", 'wouldn', \"wouldn't\"]\n",
        "    \n",
        "    sent = ' '.join(e for e in sent.split() if e.lower() not in stopwords)\n",
        "    return sent\n",
        "\n",
        "def decontracted(phrase):\n",
        "    \n",
        "    phrase = re.sub(r\"won't\", \"will not\", phrase)\n",
        "    phrase = re.sub(r\"can\\'t\", \"can not\", phrase)\n",
        "\n",
        "    \n",
        "    phrase = re.sub(r\"n\\'t\", \" not\", phrase)\n",
        "    phrase = re.sub(r\"\\'re\", \" are\", phrase)\n",
        "    phrase = re.sub(r\"\\'s\", \" is\", phrase)\n",
        "    phrase = re.sub(r\"\\'d\", \" would\", phrase)\n",
        "    phrase = re.sub(r\"\\'ll\", \" will\", phrase)\n",
        "    phrase = re.sub(r\"\\'t\", \" not\", phrase)\n",
        "    phrase = re.sub(r\"\\'ve\", \" have\", phrase)\n",
        "    phrase = re.sub(r\"\\'m\", \" am\", phrase)\n",
        "    \n",
        "    return phrase\n",
        "\n",
        "def remove_line(sent):\n",
        "    sent = sent.replace('\\\\r', ' ')\n",
        "    sent = sent.replace('\\\\\"', ' ')\n",
        "    sent = sent.replace('\\\\n', ' ')\n",
        "    \n",
        "    return sent\n",
        "\n",
        "def setmming(sent):\n",
        "    ps = PorterStemmer()\n",
        "\n",
        "def preprocess_cleaning(df):\n",
        "    \n",
        "    df['name'] = df['name'].apply(decontracted)\n",
        "    df['name'] = df['name'].apply(remove_line)\n",
        "    df['name'] = df['name'].apply(accented_to_english)\n",
        "    df['name'] = df['name'].str.replace(r'[^A-Za-z0-9 ]', r' ')\n",
        "    # df['name'] = df['name'].apply(number_to_word)\n",
        "    df['name'] = df['name'].str.strip()\n",
        "    df['name'] = df['name'].str.replace(' +', ' ')\n",
        "    df['name'] = df['name'].str.lower()\n",
        "    df['name'] = df['name'].apply(fill_name)\n",
        "    \n",
        "    \n",
        "    df['brand_name'] = df['brand_name'].str.replace(r'[^A-Za-z0-9 ]', r' ')# remove all char except words and letters\n",
        "    df['brand_name'] = df['brand_name'].str.strip()# removing leading and tailing spaces\n",
        "    df['brand_name'] = df['brand_name'].str.replace(' +', ' ')# replacing double_space with single space\n",
        "    df['brand_name'] = df['brand_name'].str.replace(' ', '_')# replacing space with under_score\n",
        "    df['brand_name'] = df['brand_name'].str.lower()# converting to lowercase\n",
        "    \n",
        "    \n",
        "    df['cat_1'] = df['cat_1'].apply(accented_to_english)\n",
        "    df['cat_1'] = df['cat_1'].str.replace(r'[^A-Za-z0-9 ]', r' ')# remove all char except words and letters\n",
        "    df['cat_1'] = df['cat_1'].apply(remove_line)\n",
        "    df['cat_1'] = df['cat_1'].str.strip()# removing leading and tailing spaces\n",
        "    df['cat_1'] = df['cat_1'].str.replace(' +', ' ')# replacing double_space with single space\n",
        "    df['cat_1'] = df['cat_1'].str.replace(' ', '_')# replacing space with under_score\n",
        "    df['cat_1'] = df['cat_1'].str.lower()# converting to lowercase\n",
        "    \n",
        "   \n",
        "    df['cat_2'] = df['cat_2'].apply(accented_to_english)\n",
        "    df['cat_2'] = df['cat_2'].str.replace(r'[^A-Za-z0-9 ]', r' ')# remove all char except words and letters\n",
        "    # df['cat_2'] = df['cat_2'].apply(number_to_word)# converting number to letter\n",
        "    df['cat_2'] = df['cat_2'].str.strip()# removing leading and tailing spaces\n",
        "    df['cat_2'] = df['cat_2'].str.replace(' +', ' ')# replacing double_space with single space\n",
        "    df['cat_2'] = df['cat_2'].str.replace(' ', '_')# replacing space with under_score\n",
        "    df['cat_2'] = df['cat_2'].str.lower()# converting to lowercase\n",
        "    \n",
        "    \n",
        "    df['cat_3'] = df['cat_3'].apply(accented_to_english)\n",
        "    df['cat_3'] = df['cat_3'].str.replace(r'[^A-Za-z0-9 ]', r' ')# remove all char except words and letters\n",
        "    #df['cat_3'] = df['cat_3'].apply(number_to_word)# converting number to letter\n",
        "    df['cat_3'] = df['cat_3'].str.strip()# removing leading and tailing spaces\n",
        "    df['cat_3'] = df['cat_3'].str.replace(' +', ' ')# replacing double_space with single space\n",
        "    df['cat_3'] = df['cat_3'].str.replace(' ', '_')# replacing space with under_score\n",
        "    df['cat_3'] = df['cat_3'].str.lower()# converting to lowercase\n",
        "    \n",
        "    df['category_name'] = df['cat_1'] + \" \" + df['cat_2'] + \" \" + df['cat_3']\n",
        "    \n",
        "    df['item_description'] = df['item_description'].apply(decontracted)\n",
        "    df['item_description'] = df['item_description'].apply(remove_line)\n",
        "    # df['item_description'] = df['item_description'].apply(remove_stop_words)\n",
        "    df['item_description'] = df['item_description'].apply(accented_to_english)\n",
        "    df['item_description'] = df['item_description'].str.replace(r'[^a-zA-Z0-9 ]', r' ')# remove all char except words and letters\n",
        "    df['item_description'] = df['item_description'].str.strip()# removing leading and tailing spaces\n",
        "    df['item_description'] = df['item_description'].str.replace(' +', ' ')# replacing double_space with single space\n",
        "    df['item_description'] = df['item_description'].str.lower()# converting to lowercase\n",
        "    df['item_description'] = df['item_description'].apply(fill_description)\n",
        "    \n",
        "    return df\n"
      ],
      "execution_count": null,
      "outputs": []
    },
    {
      "cell_type": "code",
      "metadata": {
        "id": "9iZhzGLKZVm5"
      },
      "source": [
        "def parallelize_dataframe(df, func):\n",
        "    df_split = np.array_split(df, num_cores)\n",
        "    with Pool(num_cores) as pool:\n",
        "        df = pd.concat(pool.map(func, df_split))\n",
        "    return df"
      ],
      "execution_count": null,
      "outputs": []
    },
    {
      "cell_type": "code",
      "metadata": {
        "colab": {
          "base_uri": "https://localhost:8080/"
        },
        "id": "d18l2M01ZVm5",
        "outputId": "c9dea452-7215-4946-b3b7-a119d73bb210"
      },
      "source": [
        "%%time\n",
        "df = parallelize_dataframe(df, preprocess_cleaning)"
      ],
      "execution_count": null,
      "outputs": [
        {
          "output_type": "stream",
          "text": [
            "CPU times: user 5.32 s, sys: 1.63 s, total: 6.95 s\n",
            "Wall time: 2min 37s\n"
          ],
          "name": "stdout"
        }
      ]
    },
    {
      "cell_type": "markdown",
      "metadata": {
        "id": "s7EV3_NHZVm6"
      },
      "source": [
        "# Train Test Split"
      ]
    },
    {
      "cell_type": "code",
      "metadata": {
        "id": "KOEy6VyuZVm6"
      },
      "source": [
        "train_df, test_df = train_test_split(df, test_size=0.20, random_state=42)"
      ],
      "execution_count": null,
      "outputs": []
    },
    {
      "cell_type": "code",
      "metadata": {
        "colab": {
          "base_uri": "https://localhost:8080/"
        },
        "id": "x4IqY1C8ZVm6",
        "outputId": "6e9b48c7-8354-405f-fddc-ea56d068b9c3"
      },
      "source": [
        "train_df.shape, test_df.shape"
      ],
      "execution_count": null,
      "outputs": [
        {
          "output_type": "execute_result",
          "data": {
            "text/plain": [
              "((1186028, 11), (296507, 11))"
            ]
          },
          "metadata": {
            "tags": []
          },
          "execution_count": 19
        }
      ]
    },
    {
      "cell_type": "markdown",
      "metadata": {
        "id": "xGBuYFvuZVm7"
      },
      "source": [
        "# Feature Engineering"
      ]
    },
    {
      "cell_type": "markdown",
      "metadata": {
        "id": "q_ShegkGZVm7"
      },
      "source": [
        "## Brand Category"
      ]
    },
    {
      "cell_type": "code",
      "metadata": {
        "colab": {
          "base_uri": "https://localhost:8080/"
        },
        "id": "pMYLE59GZVm8",
        "outputId": "f9e91262-6a27-4559-89f7-a15d9a86ee91"
      },
      "source": [
        "%%time\n",
        "def brand_category_func(price):\n",
        "\n",
        "    if price > 4:\n",
        "        return \"expensive\"\n",
        "    elif price > 2 and price < 4:\n",
        "        return \"affordable\"\n",
        "    elif price < 2:\n",
        "        return \"cheap\"\n",
        "    \n",
        "    \n",
        "    \n",
        "def create_brand_category(df):\n",
        "    df['brand_category'] = df.apply(lambda x: brand_category_func(np.log1p(x.price)), axis=1)\n",
        "    return df\n",
        "\n",
        "\n",
        "train_df = parallelize_dataframe(train_df, create_brand_category)\n"
      ],
      "execution_count": null,
      "outputs": [
        {
          "output_type": "stream",
          "text": [
            "CPU times: user 7.9 s, sys: 1.76 s, total: 9.66 s\n",
            "Wall time: 26.5 s\n"
          ],
          "name": "stdout"
        }
      ]
    },
    {
      "cell_type": "code",
      "metadata": {
        "id": "953TJV1UZVm8"
      },
      "source": [
        "def test_brand_category(train_df, test_df):\n",
        "    \n",
        "    expensive_brands = np.unique(train_df[train_df['brand_category']=='expensive']['brand_name'].values)\n",
        "    affordable_brands = np.unique(train_df[train_df['brand_category']=='affordable']['brand_name'].values)\n",
        "    cheap_brands = np.unique(train_df[train_df['brand_category']=='cheap']['brand_name'].values)\n",
        "    \n",
        "    def test_brand_category_func(brand, expensive_brands, affordable_brands, cheap_brands):\n",
        "        \n",
        "        if brand in expensive_brands:\n",
        "            return 'expensive'\n",
        "        elif brand in affordable_brands:\n",
        "            return 'affordable'\n",
        "        else:\n",
        "            return 'cheap'\n",
        "    \n",
        "    test_df['brand_category'] = test_df.apply(lambda x: test_brand_category_func(str(x.brand_name),expensive_brands ,affordable_brands ,cheap_brands), axis=1)\n",
        "\n",
        "    return test_df"
      ],
      "execution_count": null,
      "outputs": []
    },
    {
      "cell_type": "code",
      "metadata": {
        "colab": {
          "base_uri": "https://localhost:8080/"
        },
        "id": "SgtWow5jpaeF",
        "outputId": "9f17baa2-c41b-4373-8ccc-8a49a0307ad9"
      },
      "source": [
        "test_df.columns"
      ],
      "execution_count": null,
      "outputs": [
        {
          "output_type": "execute_result",
          "data": {
            "text/plain": [
              "Index(['train_id', 'name', 'item_condition_id', 'category_name', 'brand_name',\n",
              "       'price', 'shipping', 'item_description', 'cat_1', 'cat_2', 'cat_3'],\n",
              "      dtype='object')"
            ]
          },
          "metadata": {
            "tags": []
          },
          "execution_count": 22
        }
      ]
    },
    {
      "cell_type": "code",
      "metadata": {
        "id": "v95Ts15aZVm8",
        "colab": {
          "base_uri": "https://localhost:8080/"
        },
        "outputId": "10348205-dafb-4b3b-b5bf-7c701438d3db"
      },
      "source": [
        "\n",
        "%%time\n",
        "\n",
        "test_df = test_brand_category(train_df, test_df)\n"
      ],
      "execution_count": null,
      "outputs": [
        {
          "output_type": "stream",
          "text": [
            "CPU times: user 37.1 s, sys: 2.36 s, total: 39.5 s\n",
            "Wall time: 34.8 s\n"
          ],
          "name": "stdout"
        }
      ]
    },
    {
      "cell_type": "markdown",
      "metadata": {
        "id": "lRNLdkpHddOm"
      },
      "source": [
        "## Extra features"
      ]
    },
    {
      "cell_type": "code",
      "metadata": {
        "id": "6esXOIfVZVm9"
      },
      "source": [
        "def create_features(df):\n",
        "    \n",
        "    df['desc_word_count'] = (df['item_description'].str.count(\"\\s+\")+1).fillna(0).astype(np.float32)\n",
        "    \n",
        "    df['desc_char_count'] = df['item_description'].str.len().fillna(0).astype(np.float32)\n",
        "    \n",
        "    df['name_word_count'] = (df['name'].str.count(\"\\s+\")+1).fillna(0).astype(int)\n",
        "    \n",
        "    df['name_char_count'] = df['name'].str.len().fillna(0).astype(int)\n",
        "    \n",
        "    df['brand_count'] = df['brand_name'].map(df[\"brand_name\"].value_counts()).fillna(0).astype(int)\n",
        "    \n",
        "    df['cat_count'] = df['category_name'].map(df[\"category_name\"].value_counts()).fillna(0).astype(int)\n",
        "    \n",
        "    df['cat_1_count'] = df['cat_1'].map(df[\"cat_1\"].value_counts()).fillna(0).astype(int)\n",
        "    \n",
        "    df['cat_2_count'] = df['cat_2'].map(df[\"cat_2\"].value_counts()).fillna(0).astype(int)\n",
        "    \n",
        "    df['cat_3_count'] = df['cat_3'].map(df[\"cat_3\"].value_counts()).fillna(0).astype(int)\n",
        "    \n",
        "    df[\"brand_cat\"] = (df[\"brand_name\"].astype(str) + ' ' + df[\"category_name\"].astype(str)).astype('category')\n",
        "    \n",
        "    df[\"cat_cond\"] = (df[\"category_name\"].astype(str) + ' ' + df[\"item_condition_id\"].astype(str)).astype('category')\n",
        "    \n",
        "    df[\"brand_cond\"] = (df[\"brand_name\"].astype(str) + ' ' + df[\"item_condition_id\"].astype(str)).astype('category')\n",
        "    \n",
        "    df[\"cat_shipping\"] = (df[\"category_name\"].astype(str) + ' ' + df[\"shipping\"].astype(str)).astype('category')\n",
        "    \n",
        "    df[\"brand_cat_count\"] = df['brand_cat'].map(df[\"brand_cat\"].value_counts()).fillna(0).astype(int) \n",
        "    \n",
        "    df['name_and_brand'] = df['name'].fillna(\"\")+ \" \" + df['brand_name'].fillna(\"\")\n",
        "    \n",
        "    df['name_and_desc_and_category'] = df['name'].fillna('') + \" \" + df['item_description'].fillna(\"\")+ \" \" + df['category_name'].fillna(\"\")\n",
        "\n",
        "\n",
        "    return df\n",
        "    "
      ],
      "execution_count": null,
      "outputs": []
    },
    {
      "cell_type": "code",
      "metadata": {
        "id": "W7VIVx9lZVm9",
        "colab": {
          "base_uri": "https://localhost:8080/"
        },
        "outputId": "793f59a0-e53e-4d5c-c7ff-9d211f59dcfe"
      },
      "source": [
        "%%time\n",
        "\n",
        "train_df = parallelize_dataframe(train_df, create_features)\n"
      ],
      "execution_count": null,
      "outputs": [
        {
          "output_type": "stream",
          "text": [
            "CPU times: user 7.47 s, sys: 2.6 s, total: 10.1 s\n",
            "Wall time: 29.6 s\n"
          ],
          "name": "stdout"
        }
      ]
    },
    {
      "cell_type": "code",
      "metadata": {
        "id": "XE2hEdcyZVm-",
        "colab": {
          "base_uri": "https://localhost:8080/"
        },
        "outputId": "002adadf-f8df-4b5d-db47-03c0d46596ac"
      },
      "source": [
        "%%time\n",
        "\n",
        "test_df = parallelize_dataframe(test_df, create_features)"
      ],
      "execution_count": null,
      "outputs": [
        {
          "output_type": "stream",
          "text": [
            "CPU times: user 2.41 s, sys: 1.49 s, total: 3.89 s\n",
            "Wall time: 9.22 s\n"
          ],
          "name": "stdout"
        }
      ]
    },
    {
      "cell_type": "code",
      "metadata": {
        "id": "GxgSXEhelPKK"
      },
      "source": [
        ""
      ],
      "execution_count": null,
      "outputs": []
    },
    {
      "cell_type": "code",
      "metadata": {
        "id": "0gcSS2AAZVm-"
      },
      "source": [
        "train_cleaned_path = \"/content/drive/MyDrive/CASE STUDY - 1/data/ann_train_cleaned.csv\"\n",
        "test_cleaned_path = \"/content/drive/MyDrive/CASE STUDY - 1/data/ann_test_cleaned.csv\"\n",
        "\n",
        "train_df.to_csv(train_cleaned_path, index=False)\n",
        "test_df.to_csv(test_cleaned_path, index=False)"
      ],
      "execution_count": null,
      "outputs": []
    },
    {
      "cell_type": "markdown",
      "metadata": {
        "id": "8KOKyQndZVm-"
      },
      "source": [
        "# Cleaned Data"
      ]
    },
    {
      "cell_type": "code",
      "metadata": {
        "id": "-qs1maDeeFfX",
        "colab": {
          "base_uri": "https://localhost:8080/"
        },
        "outputId": "fe998cbc-916b-41c7-c532-2747af12dc73"
      },
      "source": [
        "!pip install Unidecode"
      ],
      "execution_count": null,
      "outputs": [
        {
          "output_type": "stream",
          "text": [
            "Requirement already satisfied: Unidecode in /usr/local/lib/python3.6/dist-packages (1.1.2)\n"
          ],
          "name": "stdout"
        }
      ]
    },
    {
      "cell_type": "code",
      "metadata": {
        "id": "-jrGtuGPZVm-",
        "colab": {
          "base_uri": "https://localhost:8080/"
        },
        "outputId": "1a598b62-d393-4d1a-8bb9-df9c5b6d4654"
      },
      "source": [
        "# train_df_path           = \"data/train.tsv\"\n",
        "# test_df_path            = \"data/test.tsv\"\n",
        "# test_stage_2_df_path    = \"data/test_stg2.tsv\"\n",
        "\n",
        "import warnings\n",
        "warnings.filterwarnings('ignore')\n",
        "\n",
        "import pandas as pd\n",
        "import numpy as np\n",
        "import seaborn as sns\n",
        "from tqdm import tqdm\n",
        "import regex as re\n",
        "import unidecode\n",
        "import nltk\n",
        "from nltk.sentiment.vader import SentimentIntensityAnalyzer\n",
        "import time\n",
        "from nltk.stem import PorterStemmer \n",
        "import sklearn\n",
        "from sklearn.feature_extraction.text import CountVectorizer, TfidfVectorizer\n",
        "from sklearn.preprocessing import OneHotEncoder, Normalizer, LabelEncoder\n",
        "from sklearn.model_selection import train_test_split\n",
        "import scipy\n",
        "from scipy.sparse import csr_matrix\n",
        "from nltk import word_tokenize, pos_tag, ne_chunk\n",
        "from sklearn.linear_model import LinearRegression\n",
        "from sklearn.linear_model import Ridge\n",
        "from sklearn.linear_model import Ridge, LogisticRegression\n",
        "from sklearn.metrics import mean_squared_error\n",
        "from sklearn.model_selection import GridSearchCV\n",
        "import tensorflow as tf\n",
        "from tensorflow import keras\n",
        "import itertools\n",
        "import multiprocessing\n",
        "from multiprocessing import Pool\n",
        "from sklearn.model_selection import train_test_split\n",
        "from scipy.sparse import hstack\n",
        "import gc\n",
        "from tensorflow.keras.preprocessing.text import Tokenizer\n",
        "from tensorflow.keras.preprocessing.sequence import pad_sequences\n",
        "from tensorflow.keras.layers import Embedding, Input, GRU, LSTM, Dense, BatchNormalization, Dropout, RNN, Flatten, GlobalAveragePooling1D, concatenate, PReLU, Concatenate\n",
        "from tensorflow.keras.layers import concatenate\n",
        "from tensorflow.keras.models import Model\n",
        "from tensorflow.keras.regularizers import l1, l2, l1_l2\n",
        "\n",
        "\n",
        "num_cores = multiprocessing.cpu_count()\n",
        "num_cores\n"
      ],
      "execution_count": null,
      "outputs": [
        {
          "output_type": "execute_result",
          "data": {
            "text/plain": [
              "2"
            ]
          },
          "metadata": {
            "tags": []
          },
          "execution_count": 29
        }
      ]
    },
    {
      "cell_type": "code",
      "metadata": {
        "id": "3nSLQOFcZVm_"
      },
      "source": [
        "train_cleaned_path = \"/content/drive/MyDrive/CASE STUDY - 1/data/ann_train_cleaned.csv\"\n",
        "test_cleaned_path = \"/content/drive/MyDrive/CASE STUDY - 1/data/ann_test_cleaned.csv\"\n",
        "\n",
        "\n",
        "train_df = pd.read_csv(train_cleaned_path)\n",
        "test_df = pd.read_csv(test_cleaned_path)"
      ],
      "execution_count": null,
      "outputs": []
    },
    {
      "cell_type": "code",
      "metadata": {
        "id": "lLfwWswXjnof"
      },
      "source": [
        "train_df = train_df[train_df['price']!=0]\n",
        "test_df  = test_df[test_df['price']!=0]"
      ],
      "execution_count": null,
      "outputs": []
    },
    {
      "cell_type": "code",
      "metadata": {
        "id": "-Ze-3ylCLDSd"
      },
      "source": [
        "train_df['log_price'] = np.log1p(train_df['price'].values.astype(np.float32))\r\n",
        "test_df['log_price'] = np.log1p(test_df['price'].values.astype(np.float32))"
      ],
      "execution_count": null,
      "outputs": []
    },
    {
      "cell_type": "code",
      "metadata": {
        "id": "Zm4tkSQtZVm_"
      },
      "source": [
        "\n",
        "y = train_df['log_price'].to_numpy().reshape(-1, 1)\n",
        "y_test = test_df['log_price'].to_numpy().reshape(-1, 1)\n"
      ],
      "execution_count": null,
      "outputs": []
    },
    {
      "cell_type": "code",
      "metadata": {
        "id": "SpgKm39leWyi",
        "colab": {
          "base_uri": "https://localhost:8080/"
        },
        "outputId": "bd8b5c61-4070-4ce5-8c08-5287613065b2"
      },
      "source": [
        "import seaborn as sns\n",
        "\n",
        "sns.distplot(y_test)"
      ],
      "execution_count": null,
      "outputs": [
        {
          "output_type": "execute_result",
          "data": {
            "text/plain": [
              "<matplotlib.axes._subplots.AxesSubplot at 0x7fb54f68d5c0>"
            ]
          },
          "metadata": {
            "tags": []
          },
          "execution_count": 34
        },
        {
          "output_type": "display_data",
          "data": {
            "image/png": "[encoded data removed]",
            "text/plain": [
              "<Figure size 432x288 with 1 Axes>"
            ]
          },
          "metadata": {
            "tags": [],
            "needs_background": "light"
          }
        }
      ]
    },
    {
      "cell_type": "code",
      "metadata": {
        "id": "eW_qM386ZVG2",
        "colab": {
          "base_uri": "https://localhost:8080/"
        },
        "outputId": "9f6441ca-311e-475b-9208-0deff4a9e5df"
      },
      "source": [
        "len(train_df['brand_name'].value_counts())"
      ],
      "execution_count": null,
      "outputs": [
        {
          "output_type": "execute_result",
          "data": {
            "text/plain": [
              "4598"
            ]
          },
          "metadata": {
            "tags": []
          },
          "execution_count": 35
        }
      ]
    },
    {
      "cell_type": "code",
      "metadata": {
        "id": "KWc2QkglZulz",
        "colab": {
          "base_uri": "https://localhost:8080/"
        },
        "outputId": "b65fa688-f22c-4394-cce5-27b83a32c2bf"
      },
      "source": [
        "train_df['brand_name'].value_counts()"
      ],
      "execution_count": null,
      "outputs": [
        {
          "output_type": "execute_result",
          "data": {
            "text/plain": [
              "and                           155153\n",
              "all                           116920\n",
              "pink                           44243\n",
              "nike                           43629\n",
              "victoria_s_secret              38470\n",
              "                               ...  \n",
              "midway                             1\n",
              "rage_broadheads                    1\n",
              "positive_attitude                  1\n",
              "belle_by_sigerson_morrison         1\n",
              "reference_point                    1\n",
              "Name: brand_name, Length: 4598, dtype: int64"
            ]
          },
          "metadata": {
            "tags": []
          },
          "execution_count": 36
        }
      ]
    },
    {
      "cell_type": "code",
      "metadata": {
        "id": "NdYmf8AnZuqP",
        "colab": {
          "base_uri": "https://localhost:8080/"
        },
        "outputId": "95496bc3-980c-43e9-f835-d4fab29f7ad8"
      },
      "source": [
        "i = np.array(train_df['brand_name'].value_counts().index)\n",
        "c = np.array(train_df['brand_name'].value_counts().values)\n",
        "\n",
        "d = pd.DataFrame({\"brand_name\":i, \"count\":c})\n",
        "d"
      ],
      "execution_count": null,
      "outputs": [
        {
          "output_type": "execute_result",
          "data": {
            "text/html": [
              "<div>\n",
              "<style scoped>\n",
              "    .dataframe tbody tr th:only-of-type {\n",
              "        vertical-align: middle;\n",
              "    }\n",
              "\n",
              "    .dataframe tbody tr th {\n",
              "        vertical-align: top;\n",
              "    }\n",
              "\n",
              "    .dataframe thead th {\n",
              "        text-align: right;\n",
              "    }\n",
              "</style>\n",
              "<table border=\"1\" class=\"dataframe\">\n",
              "  <thead>\n",
              "    <tr style=\"text-align: right;\">\n",
              "      <th></th>\n",
              "      <th>brand_name</th>\n",
              "      <th>count</th>\n",
              "    </tr>\n",
              "  </thead>\n",
              "  <tbody>\n",
              "    <tr>\n",
              "      <th>0</th>\n",
              "      <td>and</td>\n",
              "      <td>155153</td>\n",
              "    </tr>\n",
              "    <tr>\n",
              "      <th>1</th>\n",
              "      <td>all</td>\n",
              "      <td>116920</td>\n",
              "    </tr>\n",
              "    <tr>\n",
              "      <th>2</th>\n",
              "      <td>pink</td>\n",
              "      <td>44243</td>\n",
              "    </tr>\n",
              "    <tr>\n",
              "      <th>3</th>\n",
              "      <td>nike</td>\n",
              "      <td>43629</td>\n",
              "    </tr>\n",
              "    <tr>\n",
              "      <th>4</th>\n",
              "      <td>victoria_s_secret</td>\n",
              "      <td>38470</td>\n",
              "    </tr>\n",
              "    <tr>\n",
              "      <th>...</th>\n",
              "      <td>...</td>\n",
              "      <td>...</td>\n",
              "    </tr>\n",
              "    <tr>\n",
              "      <th>4593</th>\n",
              "      <td>midway</td>\n",
              "      <td>1</td>\n",
              "    </tr>\n",
              "    <tr>\n",
              "      <th>4594</th>\n",
              "      <td>rage_broadheads</td>\n",
              "      <td>1</td>\n",
              "    </tr>\n",
              "    <tr>\n",
              "      <th>4595</th>\n",
              "      <td>positive_attitude</td>\n",
              "      <td>1</td>\n",
              "    </tr>\n",
              "    <tr>\n",
              "      <th>4596</th>\n",
              "      <td>belle_by_sigerson_morrison</td>\n",
              "      <td>1</td>\n",
              "    </tr>\n",
              "    <tr>\n",
              "      <th>4597</th>\n",
              "      <td>reference_point</td>\n",
              "      <td>1</td>\n",
              "    </tr>\n",
              "  </tbody>\n",
              "</table>\n",
              "<p>4598 rows × 2 columns</p>\n",
              "</div>"
            ],
            "text/plain": [
              "                      brand_name   count\n",
              "0                            and  155153\n",
              "1                            all  116920\n",
              "2                           pink   44243\n",
              "3                           nike   43629\n",
              "4              victoria_s_secret   38470\n",
              "...                          ...     ...\n",
              "4593                      midway       1\n",
              "4594             rage_broadheads       1\n",
              "4595           positive_attitude       1\n",
              "4596  belle_by_sigerson_morrison       1\n",
              "4597             reference_point       1\n",
              "\n",
              "[4598 rows x 2 columns]"
            ]
          },
          "metadata": {
            "tags": []
          },
          "execution_count": 37
        }
      ]
    },
    {
      "cell_type": "code",
      "metadata": {
        "id": "pDKOIbOkamK9",
        "colab": {
          "base_uri": "https://localhost:8080/"
        },
        "outputId": "62c75308-87e6-4d7b-fcba-0e33736dc64a"
      },
      "source": [
        "d[d['count']==6]"
      ],
      "execution_count": null,
      "outputs": [
        {
          "output_type": "execute_result",
          "data": {
            "text/html": [
              "<div>\n",
              "<style scoped>\n",
              "    .dataframe tbody tr th:only-of-type {\n",
              "        vertical-align: middle;\n",
              "    }\n",
              "\n",
              "    .dataframe tbody tr th {\n",
              "        vertical-align: top;\n",
              "    }\n",
              "\n",
              "    .dataframe thead th {\n",
              "        text-align: right;\n",
              "    }\n",
              "</style>\n",
              "<table border=\"1\" class=\"dataframe\">\n",
              "  <thead>\n",
              "    <tr style=\"text-align: right;\">\n",
              "      <th></th>\n",
              "      <th>brand_name</th>\n",
              "      <th>count</th>\n",
              "    </tr>\n",
              "  </thead>\n",
              "  <tbody>\n",
              "    <tr>\n",
              "      <th>2180</th>\n",
              "      <td>sole_society</td>\n",
              "      <td>6</td>\n",
              "    </tr>\n",
              "    <tr>\n",
              "      <th>2181</th>\n",
              "      <td>only_mine</td>\n",
              "      <td>6</td>\n",
              "    </tr>\n",
              "    <tr>\n",
              "      <th>2182</th>\n",
              "      <td>max_edition</td>\n",
              "      <td>6</td>\n",
              "    </tr>\n",
              "    <tr>\n",
              "      <th>2183</th>\n",
              "      <td>michael_antonio</td>\n",
              "      <td>6</td>\n",
              "    </tr>\n",
              "    <tr>\n",
              "      <th>2184</th>\n",
              "      <td>florsheim</td>\n",
              "      <td>6</td>\n",
              "    </tr>\n",
              "    <tr>\n",
              "      <th>...</th>\n",
              "      <td>...</td>\n",
              "      <td>...</td>\n",
              "    </tr>\n",
              "    <tr>\n",
              "      <th>2321</th>\n",
              "      <td>balboa_baby</td>\n",
              "      <td>6</td>\n",
              "    </tr>\n",
              "    <tr>\n",
              "      <th>2322</th>\n",
              "      <td>barneys_new_york</td>\n",
              "      <td>6</td>\n",
              "    </tr>\n",
              "    <tr>\n",
              "      <th>2323</th>\n",
              "      <td>first_aid_beauty</td>\n",
              "      <td>6</td>\n",
              "    </tr>\n",
              "    <tr>\n",
              "      <th>2324</th>\n",
              "      <td>mario_badescu_skin_care</td>\n",
              "      <td>6</td>\n",
              "    </tr>\n",
              "    <tr>\n",
              "      <th>2325</th>\n",
              "      <td>hoka_one</td>\n",
              "      <td>6</td>\n",
              "    </tr>\n",
              "  </tbody>\n",
              "</table>\n",
              "<p>146 rows × 2 columns</p>\n",
              "</div>"
            ],
            "text/plain": [
              "                   brand_name  count\n",
              "2180             sole_society      6\n",
              "2181                only_mine      6\n",
              "2182              max_edition      6\n",
              "2183          michael_antonio      6\n",
              "2184                florsheim      6\n",
              "...                       ...    ...\n",
              "2321              balboa_baby      6\n",
              "2322         barneys_new_york      6\n",
              "2323         first_aid_beauty      6\n",
              "2324  mario_badescu_skin_care      6\n",
              "2325                 hoka_one      6\n",
              "\n",
              "[146 rows x 2 columns]"
            ]
          },
          "metadata": {
            "tags": []
          },
          "execution_count": 38
        }
      ]
    },
    {
      "cell_type": "markdown",
      "metadata": {
        "id": "xEntoy3YZVnB"
      },
      "source": [
        "# ANN Model"
      ]
    },
    {
      "cell_type": "markdown",
      "metadata": {
        "id": "UrKIYXPopuG1"
      },
      "source": [
        "## CNN"
      ]
    },
    {
      "cell_type": "code",
      "metadata": {
        "id": "pzNlTTBqyMHo"
      },
      "source": [
        "## Custom Tokenizer"
      ],
      "execution_count": null,
      "outputs": []
    },
    {
      "cell_type": "code",
      "metadata": {
        "id": "NfCSWH9dyOYI"
      },
      "source": [
        "class CustomTokenizer():\n",
        "\n",
        "  def __init__(self, min_df, max_len):\n",
        "    self.min_df = min_df\n",
        "    self.vect = CountVectorizer(lowercase=True, ngram_range=(1,1), stop_words='english', min_df=self.min_df, )\n",
        "    self.vocabulary = None\n",
        "    self.max_len = max_len\n",
        "\n",
        "  def fit(self, corpus):\n",
        "    self.vect.fit(corpus)\n",
        "    self.vocabulary = self.vect.vocabulary_\n",
        "\n",
        "  def transform(self, corpus):\n",
        "    \"\"\"\n",
        "    from a sentence the words with min_freq=self.min_df will be kept, then will be transformed to sequence\n",
        "    \"\"\"\n",
        "    trans_seq = []\n",
        "\n",
        "    for sent in corpus:\n",
        "\n",
        "      tokens = sent.lower().split()\n",
        "      new_sent = []\n",
        "\n",
        "      for token in tokens:\n",
        "        if token in self.vocabulary:\n",
        "          new_sent.append(self.vocabulary[token])\n",
        "      ## padding\n",
        "      if len(new_sent) > self.max_len:\n",
        "        trans_seq.append(np.array(new_sent[:self.max_len]))\n",
        "      else:\n",
        "        while len(new_sent) != self.max_len:\n",
        "          new_sent.append(0)\n",
        "        trans_seq.append(np.array(new_sent))\n",
        "\n",
        "    return np.array(trans_seq)\n",
        "\n",
        "  def getVocab(self):\n",
        "    return self.vocabulary\n",
        "        "
      ],
      "execution_count": null,
      "outputs": []
    },
    {
      "cell_type": "code",
      "metadata": {
        "id": "1vRh7SuXp2JC"
      },
      "source": [
        "## name"
      ],
      "execution_count": null,
      "outputs": []
    },
    {
      "cell_type": "code",
      "metadata": {
        "id": "7Ic5KNS9xohJ"
      },
      "source": [
        "tr = train_df['name'] \n",
        "te = test_df['name']\n",
        "\n",
        "tokenizer = Tokenizer(num_words=None,\n",
        "                    filters='!\"#$%&()*+,-./:;<=>?@[\\\\]^`{|}~\\t\\n',\n",
        "                    lower=True,\n",
        "                    split=' ',\n",
        "                    char_level=False,\n",
        "                    oov_token=\"<UNK>\",\n",
        "                    document_count=0,)\n",
        "\n",
        "tokenizer.fit_on_texts(tr)\n",
        "vocab_name = len(tokenizer.word_index) + 1\n",
        "\n",
        "train_name = tokenizer.texts_to_sequences(tr)\n",
        "test_name  = tokenizer.texts_to_sequences(te)\n",
        "\n",
        "train_name_padded = pad_sequences(train_name, maxlen=16, padding='post')\n",
        "test_name_padded = pad_sequences(test_name, maxlen=16, padding='post')\n",
        "\n",
        "del train_name\n",
        "del test_name"
      ],
      "execution_count": null,
      "outputs": []
    },
    {
      "cell_type": "code",
      "metadata": {
        "id": "pkFFPdQWp7jb"
      },
      "source": [
        "## desc"
      ],
      "execution_count": null,
      "outputs": []
    },
    {
      "cell_type": "code",
      "metadata": {
        "id": "Bf0D-IbBytcE"
      },
      "source": [
        "tr = train_df['item_description'] \n",
        "te = test_df['item_description']\n",
        "\n",
        "tokenizer = Tokenizer(num_words=None,\n",
        "                    filters='!\"#$%&()*+,-./:;<=>?@[\\\\]^`{|}~\\t\\n',\n",
        "                    lower=True,\n",
        "                    split=' ',\n",
        "                    char_level=False,\n",
        "                    oov_token=\"<UNK>\",\n",
        "                    document_count=0,)\n",
        "\n",
        "tokenizer.fit_on_texts(tr)\n",
        "vocab_desc = len(tokenizer.word_index) + 1\n",
        "\n",
        "train_desc = tokenizer.texts_to_sequences(tr)\n",
        "test_desc  = tokenizer.texts_to_sequences(te)\n",
        "\n",
        "train_desc_padded = pad_sequences(train_desc, maxlen=160, padding='post')\n",
        "test_desc_padded = pad_sequences(test_desc, maxlen=160, padding='post')\n",
        "\n",
        "del train_desc\n",
        "del test_desc\n"
      ],
      "execution_count": null,
      "outputs": []
    },
    {
      "cell_type": "code",
      "metadata": {
        "id": "-C1E0MQSp8vQ"
      },
      "source": [
        "## brand"
      ],
      "execution_count": null,
      "outputs": []
    },
    {
      "cell_type": "code",
      "metadata": {
        "id": "Z6xwnX9Jy0se"
      },
      "source": [
        "tokenizer = Tokenizer(num_words=None,\n",
        "                    filters='!\"#$%&()*+,-./:;<=>?@[\\\\]^`{|}~\\t\\n',\n",
        "                    lower=True,\n",
        "                    split=' ',\n",
        "                    char_level=False,\n",
        "                    oov_token=\"<UNK>\",\n",
        "                    document_count=0,)\n",
        "tr = train_df['brand_name']\n",
        "te = test_df['brand_name']\n",
        "\n",
        "tokenizer.fit_on_texts(tr)\n",
        "\n",
        "vocab_brand = len(tokenizer.word_index)+1\n",
        "\n",
        "train_brand = tokenizer.texts_to_sequences(tr)\n",
        "test_brand  = tokenizer.texts_to_sequences(te)\n",
        "\n",
        "train_brand_padded = pad_sequences(train_brand, maxlen=1, padding='post')\n",
        "test_brand_padded = pad_sequences(test_brand, maxlen=1, padding='post')\n"
      ],
      "execution_count": null,
      "outputs": []
    },
    {
      "cell_type": "code",
      "metadata": {
        "id": "z2qsT-dHp-8Q"
      },
      "source": [
        "## category_name"
      ],
      "execution_count": null,
      "outputs": []
    },
    {
      "cell_type": "code",
      "metadata": {
        "id": "RtNikDT2y5fc"
      },
      "source": [
        "tokenizer = Tokenizer(num_words=None,\n",
        "                    filters='!\"#$%&()*+,-./:;<=>?@[\\\\]^`{|}~\\t\\n',\n",
        "                    lower=True,\n",
        "                    split=' ',\n",
        "                    char_level=False,\n",
        "                    oov_token=\"<UNK>\",\n",
        "                    document_count=0,)\n",
        "tr = train_df['category_name'].replace(\"\\s+\", \"_\", regex=True) \n",
        "te = test_df['category_name'].replace(\"\\s+\", \"_\", regex=True) \n",
        "\n",
        "tokenizer.fit_on_texts(tr)\n",
        "\n",
        "vocab_cat = len(tokenizer.word_index)+1\n",
        "\n",
        "train_cat = tokenizer.texts_to_sequences(tr)\n",
        "test_cat  = tokenizer.texts_to_sequences(te)\n",
        "\n",
        "train_cat_padded = pad_sequences(train_cat, maxlen=1, padding='post')\n",
        "test_cat_padded = pad_sequences(test_cat, maxlen=1, padding='post')\n"
      ],
      "execution_count": null,
      "outputs": []
    },
    {
      "cell_type": "code",
      "metadata": {
        "id": "-9pNcZELp_5Q"
      },
      "source": [
        "## cat1"
      ],
      "execution_count": null,
      "outputs": []
    },
    {
      "cell_type": "code",
      "metadata": {
        "id": "iieEHMplzMY-"
      },
      "source": [
        "tokenizer = Tokenizer(num_words=None,\n",
        "                    filters='!\"#$%&()*+,-./:;<=>?@[\\\\]^`{|}~\\t\\n',\n",
        "                    lower=True,\n",
        "                    split=' ',\n",
        "                    char_level=False,\n",
        "                    oov_token=\"<UNK>\",\n",
        "                    document_count=0,)\n",
        "tr = train_df['cat_1'] \n",
        "te = test_df['cat_1'] \n",
        "\n",
        "tokenizer.fit_on_texts(tr)\n",
        "\n",
        "vocab_cat1 = len(tokenizer.word_index)+1\n",
        "\n",
        "train_cat1 = tokenizer.texts_to_sequences(tr)\n",
        "test_cat1  = tokenizer.texts_to_sequences(te)\n",
        "\n",
        "train_cat1_padded = pad_sequences(train_cat1, maxlen=1, padding='post')\n",
        "test_cat1_padded = pad_sequences(test_cat1, maxlen=1, padding='post')\n"
      ],
      "execution_count": null,
      "outputs": []
    },
    {
      "cell_type": "code",
      "metadata": {
        "id": "0bF9RHyhqAjT"
      },
      "source": [
        "## cat2"
      ],
      "execution_count": null,
      "outputs": []
    },
    {
      "cell_type": "code",
      "metadata": {
        "id": "N8XPjwW-zOYl"
      },
      "source": [
        "tokenizer = Tokenizer(num_words=None,\n",
        "                    filters='!\"#$%&()*+,-./:;<=>?@[\\\\]^`{|}~\\t\\n',\n",
        "                    lower=True,\n",
        "                    split=' ',\n",
        "                    char_level=False,\n",
        "                    oov_token=\"<UNK>\",\n",
        "                    document_count=0,)\n",
        "tr = train_df['cat_2'] \n",
        "te = test_df['cat_2'] \n",
        "\n",
        "tokenizer.fit_on_texts(tr)\n",
        "\n",
        "vocab_cat2 = len(tokenizer.word_index)+1\n",
        "\n",
        "train_cat2 = tokenizer.texts_to_sequences(tr)\n",
        "test_cat2  = tokenizer.texts_to_sequences(te)\n",
        "\n",
        "train_cat2_padded = pad_sequences(train_cat2, maxlen=1, padding='post')\n",
        "test_cat2_padded = pad_sequences(test_cat2, maxlen=1, padding='post')\n"
      ],
      "execution_count": null,
      "outputs": []
    },
    {
      "cell_type": "code",
      "metadata": {
        "id": "fdYffjXTqBJ0"
      },
      "source": [
        "## cat3"
      ],
      "execution_count": null,
      "outputs": []
    },
    {
      "cell_type": "code",
      "metadata": {
        "id": "GdomTQoVzQ1l"
      },
      "source": [
        "tokenizer = Tokenizer(num_words=None,\n",
        "                    filters='!\"#$%&()*+,-./:;<=>?@[\\\\]^`{|}~\\t\\n',\n",
        "                    lower=True,\n",
        "                    split=' ',\n",
        "                    char_level=False,\n",
        "                    oov_token=\"<UNK>\",\n",
        "                    document_count=0,)\n",
        "tr = train_df['cat_3'] \n",
        "te = test_df['cat_3'] \n",
        "\n",
        "tokenizer.fit_on_texts(tr)\n",
        "\n",
        "vocab_cat3 = len(tokenizer.word_index)+1\n",
        "\n",
        "train_cat3 = tokenizer.texts_to_sequences(tr)\n",
        "test_cat3  = tokenizer.texts_to_sequences(te)\n",
        "\n",
        "train_cat3_padded = pad_sequences(train_cat3, maxlen=1, padding='post')\n",
        "test_cat3_padded = pad_sequences(test_cat3, maxlen=1, padding='post')\n"
      ],
      "execution_count": null,
      "outputs": []
    },
    {
      "cell_type": "code",
      "metadata": {
        "id": "nSiYqPPSqBtY"
      },
      "source": [
        "## shipping"
      ],
      "execution_count": null,
      "outputs": []
    },
    {
      "cell_type": "code",
      "metadata": {
        "id": "W4AUIe5dzTHx"
      },
      "source": [
        "\n",
        "train_shipping = train_df['shipping'].to_numpy().reshape(-1,1)\n",
        "test_shipping  = test_df['shipping'].to_numpy().reshape(-1, 1)\n"
      ],
      "execution_count": null,
      "outputs": []
    },
    {
      "cell_type": "code",
      "metadata": {
        "id": "GAmZoAN9qDJU"
      },
      "source": [
        "## item condition"
      ],
      "execution_count": null,
      "outputs": []
    },
    {
      "cell_type": "code",
      "metadata": {
        "id": "y6bp5uHo0eTw"
      },
      "source": [
        "vect = OneHotEncoder()\n",
        "train_cond = vect.fit_transform(train_df['item_condition_id'].to_numpy().reshape(-1,1)).A\n",
        "test_cond = vect.transform(test_df['item_condition_id'].to_numpy().reshape(-1, 1)).A"
      ],
      "execution_count": null,
      "outputs": []
    },
    {
      "cell_type": "code",
      "metadata": {
        "id": "_jBXQZtOzWvM"
      },
      "source": [
        "## concatenating features"
      ],
      "execution_count": null,
      "outputs": []
    },
    {
      "cell_type": "code",
      "metadata": {
        "id": "_IcYxXDAzjpj"
      },
      "source": [
        "\n",
        "X_train = [train_name_padded, train_desc_padded,\n",
        "           \n",
        "           train_brand_padded, train_cat_padded,\n",
        "           \n",
        "           train_cat1_padded, train_cat2_padded, train_cat3_padded,\n",
        "           \n",
        "           train_shipping, train_cond,\n",
        "           \n",
        "           ]\n",
        "\n",
        "\n",
        "X_test = [test_name_padded, test_desc_padded,\n",
        "          \n",
        "          test_brand_padded, test_cat_padded,\n",
        "          \n",
        "          test_cat1_padded, test_cat2_padded, test_cat3_padded,\n",
        "          \n",
        "          test_shipping, test_cond,]\n",
        "\n"
      ],
      "execution_count": null,
      "outputs": []
    },
    {
      "cell_type": "code",
      "metadata": {
        "id": "3q_BBLKmzomf"
      },
      "source": [
        "## CNN Model"
      ],
      "execution_count": null,
      "outputs": []
    },
    {
      "cell_type": "code",
      "metadata": {
        "id": "ortHPEQ5zqBC",
        "colab": {
          "base_uri": "https://localhost:8080/"
        },
        "outputId": "fd1abcf0-0c4c-4b0d-d45f-af32de33ba52"
      },
      "source": [
        "tf.keras.backend.clear_session()\n",
        "from tensorflow.keras.layers import Conv1D\n",
        "\n",
        "\n",
        "name = Input(shape=(16,), name=\"name\")\n",
        "desc = Input(shape=(160,), name=\"desc\")\n",
        "brand = Input(shape=(1,), name=\"brand\")\n",
        "cat = Input(shape=(1,), name=\"cat\")\n",
        "cat1 = Input(shape=(1,), name=\"cat1\")\n",
        "cat2 = Input(shape=(1,), name=\"cat2\")\n",
        "cat3 = Input(shape=(1,), name=\"cat3\")\n",
        "ship = Input(shape=(1,), name=\"ship\")\n",
        "cond = Input(shape=(5,), name=\"cond\")\n",
        "\n",
        "name_embd = Embedding(input_dim=vocab_name, output_dim=35, name=\"name_embd\") (name)\n",
        "desc_embd = Embedding(input_dim=vocab_desc, output_dim=45, name=\"desc_embd\") (desc)\n",
        "brand_embd = Embedding(input_dim=vocab_brand, output_dim=10, name=\"brand_embd\") (brand)\n",
        "cat_embd = Embedding(input_dim=vocab_cat, output_dim=10, name=\"cat_embd\") (cat)\n",
        "cat1_embd = Embedding(input_dim=vocab_cat1, output_dim=10, name=\"cat1_embd\") (cat1)\n",
        "cat2_embd = Embedding(input_dim=vocab_cat2, output_dim=10, name=\"cat2_embd\") (cat2)\n",
        "cat3_embd = Embedding(input_dim=vocab_cat3, output_dim=10, name=\"cat3_embd\") (cat3)\n",
        "ship_embd = Embedding(input_dim=3, output_dim=10, name=\"ship_embd\") (ship)\n",
        "cond_embd = Embedding(input_dim=6, output_dim=10, name=\"cond_embd\") (cond)\n",
        "\n",
        "\n",
        "name_conv = Conv1D(filters=12, kernel_size=3) (name_embd)\n",
        "desc_conv = Conv1D(filters=12, kernel_size=3) (desc_embd)\n",
        "\n",
        "name_drop = Dropout(0.3)(name_conv)\n",
        "desc_drop = Dropout(0.3)(desc_conv)\n",
        "\n",
        "name_flat = Flatten()(name_drop)\n",
        "desc_flat = Flatten()(desc_drop)\n",
        "brand_flat = Flatten()(brand_embd)\n",
        "cat_flat = Flatten() (cat_embd)\n",
        "cat1_flat = Flatten() (cat1_embd)\n",
        "cat2_flat = Flatten() (cat2_embd)\n",
        "cat3_flat = Flatten() (cat3_embd)\n",
        "\n",
        "concat = concatenate(inputs=[name_flat, desc_flat, brand_flat, cat_flat, cat1_flat, cat2_flat, cat3_flat, ship, cond])\n",
        "\n",
        "out = Dense(100, activation='relu')(concat)\n",
        "out = Dense(1)(out)\n",
        "\n",
        "model = Model([name, desc, brand, cat, cat1, cat2, cat3, ship, cond,], out)\n",
        "\n",
        "\n",
        "model.summary()\n",
        "\n"
      ],
      "execution_count": null,
      "outputs": [
        {
          "output_type": "stream",
          "text": [
            "Model: \"model\"\n",
            "__________________________________________________________________________________________________\n",
            "Layer (type)                    Output Shape         Param #     Connected to                     \n",
            "==================================================================================================\n",
            "name (InputLayer)               [(None, 16)]         0                                            \n",
            "__________________________________________________________________________________________________\n",
            "desc (InputLayer)               [(None, 160)]        0                                            \n",
            "__________________________________________________________________________________________________\n",
            "name_embd (Embedding)           (None, 16, 35)       3278380     name[0][0]                       \n",
            "__________________________________________________________________________________________________\n",
            "desc_embd (Embedding)           (None, 160, 45)      6454710     desc[0][0]                       \n",
            "__________________________________________________________________________________________________\n",
            "conv1d (Conv1D)                 (None, 14, 12)       1272        name_embd[0][0]                  \n",
            "__________________________________________________________________________________________________\n",
            "conv1d_1 (Conv1D)               (None, 158, 12)      1632        desc_embd[0][0]                  \n",
            "__________________________________________________________________________________________________\n",
            "brand (InputLayer)              [(None, 1)]          0                                            \n",
            "__________________________________________________________________________________________________\n",
            "cat (InputLayer)                [(None, 1)]          0                                            \n",
            "__________________________________________________________________________________________________\n",
            "cat1 (InputLayer)               [(None, 1)]          0                                            \n",
            "__________________________________________________________________________________________________\n",
            "cat2 (InputLayer)               [(None, 1)]          0                                            \n",
            "__________________________________________________________________________________________________\n",
            "cat3 (InputLayer)               [(None, 1)]          0                                            \n",
            "__________________________________________________________________________________________________\n",
            "dropout (Dropout)               (None, 14, 12)       0           conv1d[0][0]                     \n",
            "__________________________________________________________________________________________________\n",
            "dropout_1 (Dropout)             (None, 158, 12)      0           conv1d_1[0][0]                   \n",
            "__________________________________________________________________________________________________\n",
            "brand_embd (Embedding)          (None, 1, 10)        46000       brand[0][0]                      \n",
            "__________________________________________________________________________________________________\n",
            "cat_embd (Embedding)            (None, 1, 10)        20190       cat[0][0]                        \n",
            "__________________________________________________________________________________________________\n",
            "cat1_embd (Embedding)           (None, 1, 10)        130         cat1[0][0]                       \n",
            "__________________________________________________________________________________________________\n",
            "cat2_embd (Embedding)           (None, 1, 10)        1150        cat2[0][0]                       \n",
            "__________________________________________________________________________________________________\n",
            "cat3_embd (Embedding)           (None, 1, 10)        8630        cat3[0][0]                       \n",
            "__________________________________________________________________________________________________\n",
            "flatten (Flatten)               (None, 168)          0           dropout[0][0]                    \n",
            "__________________________________________________________________________________________________\n",
            "flatten_1 (Flatten)             (None, 1896)         0           dropout_1[0][0]                  \n",
            "__________________________________________________________________________________________________\n",
            "flatten_2 (Flatten)             (None, 10)           0           brand_embd[0][0]                 \n",
            "__________________________________________________________________________________________________\n",
            "flatten_3 (Flatten)             (None, 10)           0           cat_embd[0][0]                   \n",
            "__________________________________________________________________________________________________\n",
            "flatten_4 (Flatten)             (None, 10)           0           cat1_embd[0][0]                  \n",
            "__________________________________________________________________________________________________\n",
            "flatten_5 (Flatten)             (None, 10)           0           cat2_embd[0][0]                  \n",
            "__________________________________________________________________________________________________\n",
            "flatten_6 (Flatten)             (None, 10)           0           cat3_embd[0][0]                  \n",
            "__________________________________________________________________________________________________\n",
            "ship (InputLayer)               [(None, 1)]          0                                            \n",
            "__________________________________________________________________________________________________\n",
            "cond (InputLayer)               [(None, 5)]          0                                            \n",
            "__________________________________________________________________________________________________\n",
            "concatenate (Concatenate)       (None, 2120)         0           flatten[0][0]                    \n",
            "                                                                 flatten_1[0][0]                  \n",
            "                                                                 flatten_2[0][0]                  \n",
            "                                                                 flatten_3[0][0]                  \n",
            "                                                                 flatten_4[0][0]                  \n",
            "                                                                 flatten_5[0][0]                  \n",
            "                                                                 flatten_6[0][0]                  \n",
            "                                                                 ship[0][0]                       \n",
            "                                                                 cond[0][0]                       \n",
            "__________________________________________________________________________________________________\n",
            "dense (Dense)                   (None, 100)          212100      concatenate[0][0]                \n",
            "__________________________________________________________________________________________________\n",
            "dense_1 (Dense)                 (None, 1)            101         dense[0][0]                      \n",
            "==================================================================================================\n",
            "Total params: 10,024,295\n",
            "Trainable params: 10,024,295\n",
            "Non-trainable params: 0\n",
            "__________________________________________________________________________________________________\n"
          ],
          "name": "stdout"
        }
      ]
    },
    {
      "cell_type": "code",
      "metadata": {
        "id": "2veVuNqx4Uay"
      },
      "source": [
        "opt = keras.optimizers.Adam(lr=0.002)\n",
        "model.compile(optimizer=opt, loss='mse', metrics=[tf.keras.metrics.RootMeanSquaredError()])"
      ],
      "execution_count": null,
      "outputs": []
    },
    {
      "cell_type": "code",
      "metadata": {
        "id": "nsNHsLJK4kM2",
        "colab": {
          "base_uri": "https://localhost:8080/"
        },
        "outputId": "2ae5045c-900a-4449-d4dc-f6cef0b4eaed"
      },
      "source": [
        "for batch in [2000, 1000, 1000, 500,]:\n",
        "\n",
        "  model.fit(X_train, y, batch_size=batch, epochs=1,\n",
        "                                    verbose=1,\n",
        "                                    validation_data=(X_test, y_test),\n",
        "                                  shuffle=True,callbacks=[])"
      ],
      "execution_count": null,
      "outputs": [
        {
          "output_type": "stream",
          "text": [
            "593/593 [==============================] - 84s 127ms/step - loss: 0.5760 - root_mean_squared_error: 0.7101 - val_loss: 0.2170 - val_root_mean_squared_error: 0.4659\n",
            "1186/1186 [==============================] - 127s 107ms/step - loss: 0.2054 - root_mean_squared_error: 0.4532 - val_loss: 0.2209 - val_root_mean_squared_error: 0.4700\n",
            "1186/1186 [==============================] - 128s 108ms/step - loss: 0.1792 - root_mean_squared_error: 0.4233 - val_loss: 0.2020 - val_root_mean_squared_error: 0.4495\n",
            "2371/2371 [==============================] - 237s 100ms/step - loss: 0.1713 - root_mean_squared_error: 0.4139 - val_loss: 0.2008 - val_root_mean_squared_error: 0.4481\n"
          ],
          "name": "stdout"
        }
      ]
    },
    {
      "cell_type": "code",
      "metadata": {
        "id": "sQZGVupb6bQG",
        "colab": {
          "base_uri": "https://localhost:8080/"
        },
        "outputId": "1cce3cf4-2153-4b38-f1d1-9b5b90d02aae"
      },
      "source": [
        "from IPython.display import Image\r\n",
        "Image(filename='/content/drive/MyDrive/CASE STUDY - 1/submission/cnn/CNN Mercari.PNG') "
      ],
      "execution_count": null,
      "outputs": [
        {
          "output_type": "execute_result",
          "data": {
            "image/png": "[encoded data removed]",
            "text/plain": [
              "<IPython.core.display.Image object>"
            ]
          },
          "metadata": {
            "tags": []
          },
          "execution_count": 65
        }
      ]
    },
    {
      "cell_type": "code",
      "metadata": {
        "id": "vV9y4ImvTxcA"
      },
      "source": [
        ""
      ],
      "execution_count": null,
      "outputs": []
    }
  ]
}