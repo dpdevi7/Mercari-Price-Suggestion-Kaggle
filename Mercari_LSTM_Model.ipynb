{
  "nbformat": 4,
  "nbformat_minor": 0,
  "metadata": {
    "colab": {
      "name": "Mercari LSTM Model.ipynb",
      "provenance": [],
      "collapsed_sections": []
    },
    "kernelspec": {
      "name": "python3",
      "display_name": "Python 3"
    }
  },
  "cells": [
    {
      "cell_type": "code",
      "metadata": {
        "colab": {
          "base_uri": "https://localhost:8080/"
        },
        "id": "lTsY67LXDR45",
        "outputId": "ac382483-3cc4-4a19-da03-c7068826a486"
      },
      "source": [
        "from google.colab import drive\r\n",
        "drive.mount('/content/drive')"
      ],
      "execution_count": null,
      "outputs": [
        {
          "output_type": "stream",
          "text": [
            "Mounted at /content/drive\n"
          ],
          "name": "stdout"
        }
      ]
    },
    {
      "cell_type": "code",
      "metadata": {
        "colab": {
          "base_uri": "https://localhost:8080/"
        },
        "id": "CYIZnwfRDiil",
        "outputId": "474b8d44-512b-4098-f116-cf1841029b61"
      },
      "source": [
        "!pip install Unidecode"
      ],
      "execution_count": null,
      "outputs": [
        {
          "output_type": "stream",
          "text": [
            "Collecting Unidecode\n",
            "\u001b[?25l  Downloading https://files.pythonhosted.org/packages/9e/25/723487ca2a52ebcee88a34d7d1f5a4b80b793f179ee0f62d5371938dfa01/Unidecode-1.2.0-py2.py3-none-any.whl (241kB)\n",
            "\r\u001b[K     |█▍                              | 10kB 13.8MB/s eta 0:00:01\r\u001b[K     |██▊                             | 20kB 11.8MB/s eta 0:00:01\r\u001b[K     |████                            | 30kB 9.0MB/s eta 0:00:01\r\u001b[K     |█████▍                          | 40kB 7.2MB/s eta 0:00:01\r\u001b[K     |██████▉                         | 51kB 4.4MB/s eta 0:00:01\r\u001b[K     |████████▏                       | 61kB 4.9MB/s eta 0:00:01\r\u001b[K     |█████████▌                      | 71kB 5.0MB/s eta 0:00:01\r\u001b[K     |██████████▉                     | 81kB 5.2MB/s eta 0:00:01\r\u001b[K     |████████████▏                   | 92kB 5.4MB/s eta 0:00:01\r\u001b[K     |█████████████▋                  | 102kB 5.7MB/s eta 0:00:01\r\u001b[K     |███████████████                 | 112kB 5.7MB/s eta 0:00:01\r\u001b[K     |████████████████▎               | 122kB 5.7MB/s eta 0:00:01\r\u001b[K     |█████████████████▋              | 133kB 5.7MB/s eta 0:00:01\r\u001b[K     |███████████████████             | 143kB 5.7MB/s eta 0:00:01\r\u001b[K     |████████████████████▍           | 153kB 5.7MB/s eta 0:00:01\r\u001b[K     |█████████████████████▊          | 163kB 5.7MB/s eta 0:00:01\r\u001b[K     |███████████████████████         | 174kB 5.7MB/s eta 0:00:01\r\u001b[K     |████████████████████████▍       | 184kB 5.7MB/s eta 0:00:01\r\u001b[K     |█████████████████████████▊      | 194kB 5.7MB/s eta 0:00:01\r\u001b[K     |███████████████████████████▏    | 204kB 5.7MB/s eta 0:00:01\r\u001b[K     |████████████████████████████▌   | 215kB 5.7MB/s eta 0:00:01\r\u001b[K     |█████████████████████████████▉  | 225kB 5.7MB/s eta 0:00:01\r\u001b[K     |███████████████████████████████▏| 235kB 5.7MB/s eta 0:00:01\r\u001b[K     |████████████████████████████████| 245kB 5.7MB/s \n",
            "\u001b[?25hInstalling collected packages: Unidecode\n",
            "Successfully installed Unidecode-1.2.0\n"
          ],
          "name": "stdout"
        }
      ]
    },
    {
      "cell_type": "code",
      "metadata": {
        "colab": {
          "base_uri": "https://localhost:8080/"
        },
        "id": "l48NCCMlDkI-",
        "outputId": "337858e9-4332-409a-b854-11b8c567adaa"
      },
      "source": [
        "train_df_path   = \"/content/drive/MyDrive/CASE STUDY - 1/submission/Factorization Machine/train.tsv\"\r\n",
        "test2_df_path   = \"/content/drive/MyDrive/CASE STUDY - 1/submission/Factorization Machine/test_stg2.tsv\"\r\n",
        "\r\n",
        "import warnings\r\n",
        "warnings.filterwarnings('ignore')\r\n",
        "\r\n",
        "import pandas as pd\r\n",
        "import numpy as np\r\n",
        "import seaborn as sns\r\n",
        "from tqdm import tqdm\r\n",
        "import regex as re\r\n",
        "import unidecode\r\n",
        "import nltk\r\n",
        "from nltk.sentiment.vader import SentimentIntensityAnalyzer\r\n",
        "import time\r\n",
        "from nltk.stem import PorterStemmer \r\n",
        "import sklearn\r\n",
        "from sklearn.feature_extraction.text import CountVectorizer, TfidfVectorizer\r\n",
        "from sklearn.preprocessing import OneHotEncoder, Normalizer, LabelEncoder\r\n",
        "from sklearn.model_selection import train_test_split\r\n",
        "import scipy\r\n",
        "from scipy.sparse import csr_matrix\r\n",
        "from nltk import word_tokenize, pos_tag, ne_chunk\r\n",
        "from sklearn.linear_model import LinearRegression\r\n",
        "from sklearn.linear_model import Ridge\r\n",
        "from sklearn.linear_model import Ridge, LogisticRegression\r\n",
        "from sklearn.metrics import mean_squared_error\r\n",
        "from sklearn.model_selection import GridSearchCV\r\n",
        "import tensorflow as tf\r\n",
        "from tensorflow import keras\r\n",
        "import itertools\r\n",
        "import multiprocessing\r\n",
        "from multiprocessing import Pool\r\n",
        "from sklearn.model_selection import train_test_split\r\n",
        "from scipy.sparse import hstack\r\n",
        "import gc\r\n",
        "from tensorflow.keras.preprocessing.text import Tokenizer\r\n",
        "from tensorflow.keras.preprocessing.sequence import pad_sequences\r\n",
        "from tensorflow.keras.layers import Embedding, Input, GRU, LSTM, Dense, BatchNormalization, Dropout, RNN, Flatten, GlobalAveragePooling1D, concatenate, PReLU, Concatenate\r\n",
        "from tensorflow.keras.layers import concatenate\r\n",
        "from tensorflow.keras.models import Model\r\n",
        "from tensorflow.keras.regularizers import l1, l2, l1_l2\r\n",
        "from tensorflow.keras.utils import plot_model\r\n",
        "\r\n",
        "\r\n",
        "num_cores = multiprocessing.cpu_count()\r\n",
        "num_cores\r\n"
      ],
      "execution_count": null,
      "outputs": [
        {
          "output_type": "execute_result",
          "data": {
            "text/plain": [
              "2"
            ]
          },
          "metadata": {
            "tags": []
          },
          "execution_count": 4
        }
      ]
    },
    {
      "cell_type": "code",
      "metadata": {
        "id": "fgCMb-oXDnPb"
      },
      "source": [
        "train_df  = pd.read_table(train_df_path)\r\n",
        "test_df = pd.read_table(test2_df_path)"
      ],
      "execution_count": null,
      "outputs": []
    },
    {
      "cell_type": "code",
      "metadata": {
        "id": "zMxxlGwkDoi4"
      },
      "source": [
        "train_df = train_df[train_df['price']>0]"
      ],
      "execution_count": null,
      "outputs": []
    },
    {
      "cell_type": "code",
      "metadata": {
        "id": "pCizns5kDp0k"
      },
      "source": [
        "# https://stackoverflow.com/questions/13331698/how-to-apply-a-function-to-two-columns-of-pandas-dataframe\r\n",
        "\r\n",
        "# concat cat_1, cat_2, cat_3 \r\n",
        "def concat_c1_c2_c3(c_1, c_2, c_3):\r\n",
        "    return c_1 + \"/\" + c_2 + \"/\" + c_3\r\n",
        "\r\n",
        "\r\n",
        "# filling missing cat-1, cat-2, cat-3 column from item_description and name\r\n",
        "def miss_cat_1_2_3(x, name, desc, x_set):\r\n",
        "    \r\n",
        "    if x == 'nan':\r\n",
        "        for cat in x_set:\r\n",
        "            \r\n",
        "            try:\r\n",
        "                if cat in desc:\r\n",
        "                    return cat\r\n",
        "                elif cat in name:\r\n",
        "                    return cat\r\n",
        "                else:\r\n",
        "                    return 'other'\r\n",
        "            except:\r\n",
        "                return 'other'\r\n",
        "    else:\r\n",
        "        return x\r\n",
        "    \r\n",
        "\r\n",
        "def miss_brand(x, name, desc, x_set):\r\n",
        "    \r\n",
        "    if x == 'nan':\r\n",
        "        for cat in x_set:\r\n",
        "            \r\n",
        "            try:\r\n",
        "                if cat in desc:\r\n",
        "                    return cat\r\n",
        "                elif cat in name:\r\n",
        "                    return cat\r\n",
        "                else:\r\n",
        "                    return 'unknown'\r\n",
        "            except:\r\n",
        "                return 'unknown'\r\n",
        "    else:\r\n",
        "        return x\r\n",
        "\r\n",
        "\r\n",
        "def fill_missing_data(df):\r\n",
        "    \r\n",
        "    \r\n",
        "    df['cat_1'] = df.category_name.str.split('/').str.get(0).astype('category')\r\n",
        "    df['cat_2'] = df.category_name.str.split('/').str.get(1).astype('category')\r\n",
        "    df['cat_3'] = df.category_name.str.split('/').str.get(2).astype('category')\r\n",
        "    \r\n",
        "    cat_1_set = np.unique(df['cat_1'].astype(str))\r\n",
        "    cat_1_set = np.delete(cat_1_set, np.argwhere(cat_1_set=='nan'))\r\n",
        "    \r\n",
        "    cat_2_set = np.unique(df['cat_2'].astype(str))\r\n",
        "    cat_2_set = np.delete(cat_2_set, np.argwhere(cat_2_set=='nan'))\r\n",
        "    \r\n",
        "    cat_3_set = np.unique(df['cat_3'].astype(str))\r\n",
        "    cat_3_set = np.delete(cat_3_set, np.argwhere(cat_3_set=='nan'))\r\n",
        "    \r\n",
        "    brand_name_set = np.unique(df['brand_name'].astype(str))\r\n",
        "    brand_name_set = np.delete(brand_name_set, np.argwhere(brand_name_set=='nan'))\r\n",
        "    \r\n",
        "    df['cat_1']         = df.apply(lambda x: miss_cat_1_2_3(str(x.cat_1), str(x.name), x.item_description, cat_1_set), axis=1)\r\n",
        "    df['cat_2']         = df.apply(lambda x: miss_cat_1_2_3(str(x.cat_2), str(x.name), x.item_description, cat_2_set), axis=1)\r\n",
        "    df['cat_3']         = df.apply(lambda x: miss_cat_1_2_3(str(x.cat_3), str(x.name), x.item_description, cat_3_set), axis=1)\r\n",
        "    df['brand_name']    = df.apply(lambda x: miss_brand(str(x.brand_name), str(x.name), x.item_description, brand_name_set), axis=1)\r\n",
        "    df['category_name'] = df.apply(lambda x: concat_c1_c2_c3(str(x.cat_1), str(x.cat_2), str(x.cat_3)), axis=1)\r\n",
        "    df['item_description'].fillna(value = \"no description yet\", inplace = True)\r\n",
        "    \r\n",
        "    return df"
      ],
      "execution_count": null,
      "outputs": []
    },
    {
      "cell_type": "code",
      "metadata": {
        "id": "cX8RJhLVDrMW"
      },
      "source": [
        "\r\n",
        "def parallelize_dataframe(df, func):\r\n",
        "    df_split = np.array_split(df, num_cores)\r\n",
        "    with Pool(num_cores) as pool:\r\n",
        "        df = pd.concat(pool.map(func, df_split))\r\n",
        "    return df\r\n"
      ],
      "execution_count": null,
      "outputs": []
    },
    {
      "cell_type": "code",
      "metadata": {
        "colab": {
          "base_uri": "https://localhost:8080/"
        },
        "id": "CABouW6HDsiQ",
        "outputId": "478d9743-1101-4a6b-cf50-2c2384262dcd"
      },
      "source": [
        "%%time\r\n",
        "train_df = parallelize_dataframe(train_df, fill_missing_data)\r\n",
        "train_df.isnull().any()"
      ],
      "execution_count": null,
      "outputs": [
        {
          "output_type": "stream",
          "text": [
            "CPU times: user 5.19 s, sys: 2.04 s, total: 7.23 s\n",
            "Wall time: 2min 43s\n"
          ],
          "name": "stdout"
        }
      ]
    },
    {
      "cell_type": "code",
      "metadata": {
        "colab": {
          "base_uri": "https://localhost:8080/"
        },
        "id": "MFJvMGZxDt1E",
        "outputId": "139c2c5d-bf53-4b3c-da18-9d8506de8124"
      },
      "source": [
        "gc.collect()"
      ],
      "execution_count": null,
      "outputs": [
        {
          "output_type": "execute_result",
          "data": {
            "text/plain": [
              "195"
            ]
          },
          "metadata": {
            "tags": []
          },
          "execution_count": 9
        }
      ]
    },
    {
      "cell_type": "code",
      "metadata": {
        "colab": {
          "base_uri": "https://localhost:8080/"
        },
        "id": "CmIqlcZkDu3d",
        "outputId": "40a6de14-7992-4811-b77b-2368e0acaf7d"
      },
      "source": [
        "%%time\r\n",
        "test_df = parallelize_dataframe(test_df, fill_missing_data)\r\n",
        "test_df.isnull().any()"
      ],
      "execution_count": null,
      "outputs": [
        {
          "output_type": "stream",
          "text": [
            "CPU times: user 12.5 s, sys: 4.42 s, total: 17 s\n",
            "Wall time: 6min 23s\n"
          ],
          "name": "stdout"
        }
      ]
    },
    {
      "cell_type": "code",
      "metadata": {
        "id": "BELCNVv7Dwg-"
      },
      "source": [
        "num_word_dict = {\r\n",
        "    \r\n",
        "    \"0\":\"zero\",\r\n",
        "    \"1\":\"one\",\r\n",
        "    \"2\":\"tow\",\r\n",
        "    \"3\":\"three\",\r\n",
        "    \"4\":\"four\",\r\n",
        "    \"5\":\"five\",\r\n",
        "    \"6\":\"six\",\r\n",
        "    \"7\":\"seven\",\r\n",
        "    \"8\":\"eight\",\r\n",
        "    \"9\":\"nine\",\r\n",
        "    '+':'plus'\r\n",
        "}\r\n",
        "\r\n",
        "def number_to_word(text):\r\n",
        "    sentence = ''\r\n",
        "    for letter in text:\r\n",
        "        try:\r\n",
        "            \r\n",
        "            if letter.isdigit():\r\n",
        "                sentence = sentence + ' ' + num_word_dict[letter]\r\n",
        "            else:\r\n",
        "                sentence = sentence + letter\r\n",
        "        except:\r\n",
        "            sentence = sentence + ''\r\n",
        "            \r\n",
        "    return sentence\r\n",
        "\r\n",
        "def accented_to_english(text):\r\n",
        "    return unidecode.unidecode(text)\r\n",
        "\r\n",
        "def fill_description(text):\r\n",
        "    if len(text) == 0:\r\n",
        "        return \"no description yet\"\r\n",
        "    else:\r\n",
        "        return text\r\n",
        "\r\n",
        "def fill_name(text):\r\n",
        "    if len(text) == 0:\r\n",
        "        return \"no name\"\r\n",
        "    else:\r\n",
        "        return text\r\n",
        "    \r\n",
        "def remove_stop_words(sent):\r\n",
        "    stopwords= ['i', 'me', 'my', 'myself', 'we', 'our', 'ours', 'ourselves', 'you', \"you're\", \"you've\",\\\r\n",
        "            \"you'll\", \"you'd\", 'your', 'yours', 'yourself', 'yourselves', 'he', 'him', 'his', 'himself', \\\r\n",
        "            'she', \"she's\", 'her', 'hers', 'herself', 'it', \"it's\", 'its', 'itself', 'they', 'them', 'their',\\\r\n",
        "            'theirs', 'themselves', 'what', 'which', 'who', 'whom', 'this', 'that', \"that'll\", 'these', 'those', \\\r\n",
        "            'am', 'is', 'are', 'was', 'were', 'be', 'been', 'being', 'have', 'has', 'had', 'having', 'do', 'does', \\\r\n",
        "            'did', 'doing', 'a', 'an', 'the', 'and', 'but', 'if', 'or', 'because', 'as', 'until', 'while', 'of', \\\r\n",
        "            'at', 'by', 'for', 'with', 'about', 'against', 'between', 'into', 'through', 'during', 'before', 'after',\\\r\n",
        "            'above', 'below', 'to', 'from', 'up', 'down', 'in', 'out', 'on', 'off', 'over', 'under', 'again', 'further',\\\r\n",
        "            'then', 'once', 'here', 'there', 'when', 'where', 'why', 'how', 'all', 'any', 'both', 'each', 'few', 'more',\\\r\n",
        "            'most', 'other', 'some', 'such', 'only', 'own', 'same', 'so', 'than', 'too', 'very', \\\r\n",
        "            's', 't', 'can', 'will', 'just', 'don', \"don't\", 'should', \"should've\", 'now', 'd', 'll', 'm', 'o', 're', \\\r\n",
        "            've', 'y', 'ain', 'aren', \"aren't\", 'couldn', \"couldn't\", 'didn', \"didn't\", 'doesn', \"doesn't\", 'hadn',\\\r\n",
        "            \"hadn't\", 'hasn', \"hasn't\", 'haven', \"haven't\", 'isn', \"isn't\", 'ma', 'mightn', \"mightn't\", 'mustn',\\\r\n",
        "            \"mustn't\", 'needn', \"needn't\", 'shan', \"shan't\", 'shouldn', \"shouldn't\", 'wasn', \"wasn't\", 'weren', \"weren't\", \\\r\n",
        "            'won', \"won't\", 'wouldn', \"wouldn't\"]\r\n",
        "    \r\n",
        "    sent = ' '.join(e for e in sent.split() if e.lower() not in stopwords)\r\n",
        "    return sent\r\n",
        "\r\n",
        "def decontracted(phrase):\r\n",
        "    \r\n",
        "    phrase = re.sub(r\"won't\", \"will not\", phrase)\r\n",
        "    phrase = re.sub(r\"can\\'t\", \"can not\", phrase)\r\n",
        "\r\n",
        "    \r\n",
        "    phrase = re.sub(r\"n\\'t\", \" not\", phrase)\r\n",
        "    phrase = re.sub(r\"\\'re\", \" are\", phrase)\r\n",
        "    phrase = re.sub(r\"\\'s\", \" is\", phrase)\r\n",
        "    phrase = re.sub(r\"\\'d\", \" would\", phrase)\r\n",
        "    phrase = re.sub(r\"\\'ll\", \" will\", phrase)\r\n",
        "    phrase = re.sub(r\"\\'t\", \" not\", phrase)\r\n",
        "    phrase = re.sub(r\"\\'ve\", \" have\", phrase)\r\n",
        "    phrase = re.sub(r\"\\'m\", \" am\", phrase)\r\n",
        "    \r\n",
        "    return phrase\r\n",
        "\r\n",
        "def remove_line(sent):\r\n",
        "    sent = sent.replace('\\\\r', ' ')\r\n",
        "    sent = sent.replace('\\\\\"', ' ')\r\n",
        "    sent = sent.replace('\\\\n', ' ')\r\n",
        "    \r\n",
        "    return sent\r\n",
        "\r\n",
        "def setmming(sent):\r\n",
        "    ps = PorterStemmer()\r\n",
        "\r\n",
        "def preprocess_cleaning(df):\r\n",
        "    \r\n",
        "    df['name'] = df['name'].apply(decontracted)\r\n",
        "    df['name'] = df['name'].apply(remove_line)\r\n",
        "    df['name'] = df['name'].apply(accented_to_english)\r\n",
        "    df['name'] = df['name'].str.replace(r'[^A-Za-z0-9 ]', r' ')\r\n",
        "    # df['name'] = df['name'].apply(number_to_word)\r\n",
        "    df['name'] = df['name'].str.strip()\r\n",
        "    df['name'] = df['name'].str.replace(' +', ' ')\r\n",
        "    df['name'] = df['name'].str.lower()\r\n",
        "    df['name'] = df['name'].apply(fill_name)\r\n",
        "    \r\n",
        "    df['brand_name'] = df['brand_name'].str.replace(r'[^A-Za-z0-9 ]', r' ')# remove all char except words and letters\r\n",
        "    # df['brand_name'] = df['brand_name'].apply(number_to_word)# converting number to letter\r\n",
        "    df['brand_name'] = df['brand_name'].str.strip()# removing leading and tailing spaces\r\n",
        "    df['brand_name'] = df['brand_name'].str.replace(' +', ' ')# replacing double_space with single space\r\n",
        "    df['brand_name'] = df['brand_name'].str.replace(' ', '_')# replacing space with under_score\r\n",
        "    df['brand_name'] = df['brand_name'].str.lower()# converting to lowercase\r\n",
        "    \r\n",
        "    df['cat_1'] = df['cat_1'].apply(accented_to_english)\r\n",
        "    df['cat_1'] = df['cat_1'].str.replace(r'[^A-Za-z0-9 ]', r' ')# remove all char except words and letters\r\n",
        "    df['cat_1'] = df['cat_1'].apply(remove_line)\r\n",
        "    df['cat_1'] = df['cat_1'].str.strip()# removing leading and tailing spaces\r\n",
        "    df['cat_1'] = df['cat_1'].str.replace(' +', ' ')# replacing double_space with single space\r\n",
        "    df['cat_1'] = df['cat_1'].str.replace(' ', '_')# replacing space with under_score\r\n",
        "    df['cat_1'] = df['cat_1'].str.lower()# converting to lowercase\r\n",
        "    \r\n",
        "    df['cat_2'] = df['cat_2'].apply(accented_to_english)\r\n",
        "    df['cat_2'] = df['cat_2'].str.replace(r'[^A-Za-z0-9 ]', r' ')# remove all char except words and letters\r\n",
        "    # df['cat_2'] = df['cat_2'].apply(number_to_word)# converting number to letter\r\n",
        "    df['cat_2'] = df['cat_2'].str.strip()# removing leading and tailing spaces\r\n",
        "    df['cat_2'] = df['cat_2'].str.replace(' +', ' ')# replacing double_space with single space\r\n",
        "    df['cat_2'] = df['cat_2'].str.replace(' ', '_')# replacing space with under_score\r\n",
        "    df['cat_2'] = df['cat_2'].str.lower()# converting to lowercase\r\n",
        "    \r\n",
        "    df['cat_3'] = df['cat_3'].apply(accented_to_english)\r\n",
        "    df['cat_3'] = df['cat_3'].str.replace(r'[^A-Za-z0-9 ]', r' ')# remove all char except words and letters\r\n",
        "    #df['cat_3'] = df['cat_3'].apply(number_to_word)# converting number to letter\r\n",
        "    df['cat_3'] = df['cat_3'].str.strip()# removing leading and tailing spaces\r\n",
        "    df['cat_3'] = df['cat_3'].str.replace(' +', ' ')# replacing double_space with single space\r\n",
        "    df['cat_3'] = df['cat_3'].str.replace(' ', '_')# replacing space with under_score\r\n",
        "    df['cat_3'] = df['cat_3'].str.lower()# converting to lowercase\r\n",
        "    \r\n",
        "    df['category_name'] = df['cat_1'] + \"_\" + df['cat_2'] + \"_\" + df['cat_3']\r\n",
        "    \r\n",
        "    df['item_description'] = df['item_description'].apply(decontracted)\r\n",
        "    df['item_description'] = df['item_description'].apply(remove_line)\r\n",
        "    df['item_description'] = df['item_description'].apply(remove_stop_words)\r\n",
        "    df['item_description'] = df['item_description'].apply(accented_to_english)\r\n",
        "    df['item_description'] = df['item_description'].str.replace(r'[^a-zA-Z0-9 ]', r' ')# remove all char except words and letters\r\n",
        "    df['item_description'] = df['item_description'].str.strip()# removing leading and tailing spaces\r\n",
        "    df['item_description'] = df['item_description'].str.replace(' +', ' ')# replacing double_space with single space\r\n",
        "    df['item_description'] = df['item_description'].str.lower()# converting to lowercase\r\n",
        "    df['item_description'] = df['item_description'].apply(fill_description)\r\n",
        "    \r\n",
        "    return df\r\n"
      ],
      "execution_count": null,
      "outputs": []
    },
    {
      "cell_type": "code",
      "metadata": {
        "id": "87OuBLJ_Dx4L"
      },
      "source": [
        "def parallelize_dataframe(df, func):\r\n",
        "    df_split = np.array_split(df, num_cores)\r\n",
        "    with Pool(num_cores) as pool:\r\n",
        "        df = pd.concat(pool.map(func, df_split))\r\n",
        "    return df"
      ],
      "execution_count": null,
      "outputs": []
    },
    {
      "cell_type": "code",
      "metadata": {
        "colab": {
          "base_uri": "https://localhost:8080/"
        },
        "id": "EVH0KOYaD00d",
        "outputId": "205686b4-5dd6-4ddd-cebf-dfc719f5ae9e"
      },
      "source": [
        "%%time\r\n",
        "test_df = parallelize_dataframe(test_df, preprocess_cleaning)"
      ],
      "execution_count": null,
      "outputs": [
        {
          "output_type": "stream",
          "text": [
            "CPU times: user 19.8 s, sys: 11.7 s, total: 31.5 s\n",
            "Wall time: 9min 59s\n"
          ],
          "name": "stdout"
        }
      ]
    },
    {
      "cell_type": "code",
      "metadata": {
        "colab": {
          "base_uri": "https://localhost:8080/"
        },
        "id": "CZhsYw0LD2Uc",
        "outputId": "217ca3ab-e761-41bb-d1b3-cf02703a8bed"
      },
      "source": [
        "%%time\r\n",
        "train_df = parallelize_dataframe(train_df, preprocess_cleaning)"
      ],
      "execution_count": null,
      "outputs": [
        {
          "output_type": "stream",
          "text": [
            "CPU times: user 7.4 s, sys: 2.85 s, total: 10.2 s\n",
            "Wall time: 4min 19s\n"
          ],
          "name": "stdout"
        }
      ]
    },
    {
      "cell_type": "code",
      "metadata": {
        "id": "d-nQJnFHD3r3"
      },
      "source": [
        "train_df['log_price'] = np.log(train_df['price'] + 1)"
      ],
      "execution_count": null,
      "outputs": []
    },
    {
      "cell_type": "code",
      "metadata": {
        "id": "DgVQQuzUaRgp"
      },
      "source": [
        "train_df = pd.read_csv(\"/content/drive/MyDrive/CASE STUDY - 1/data/train__cleaned.csv\")\n",
        "test_df = pd.read_csv(\"/content/drive/MyDrive/CASE STUDY - 1/data/test__cleaned.csv\")"
      ],
      "execution_count": null,
      "outputs": []
    },
    {
      "cell_type": "code",
      "metadata": {
        "id": "c6C7IF7Nvl6I"
      },
      "source": [
        "train_df['log_price'] = np.log1p(train_df['price'])"
      ],
      "execution_count": null,
      "outputs": []
    },
    {
      "cell_type": "code",
      "metadata": {
        "id": "HX8hzFUOD5V8"
      },
      "source": [
        "y = train_df['log_price']\r\n",
        "x_train = train_df.drop(['log_price'], axis=1)\r\n",
        "\r\n",
        "x_test  = test_df"
      ],
      "execution_count": null,
      "outputs": []
    },
    {
      "cell_type": "code",
      "metadata": {
        "id": "SPCWBR3MD6qt"
      },
      "source": [
        "tokenizer = Tokenizer(num_words=None,\r\n",
        "                    filters='!\"#$%&()*+,-./:;<=>?@[\\\\]^`{|}~\\t\\n',\r\n",
        "                    lower=True,\r\n",
        "                    split=' ',\r\n",
        "                    char_level=False,\r\n",
        "                    oov_token=\"<UNK>\",\r\n",
        "                    document_count=0,)\r\n",
        "tr = train_df['name']\r\n",
        "te = test_df['name'] \r\n",
        "\r\n",
        "tokenizer.fit_on_texts(tr)\r\n",
        "\r\n",
        "vocab_name = len(tokenizer.word_index)+1\r\n",
        "\r\n",
        "train_name = tokenizer.texts_to_sequences(tr)\r\n",
        "test_name  = tokenizer.texts_to_sequences(te)\r\n",
        "\r\n",
        "train_name_padded = pad_sequences(train_name, maxlen=13, padding='post')\r\n",
        "test_name_padded = pad_sequences(test_name, maxlen=13, padding='post')\r\n"
      ],
      "execution_count": null,
      "outputs": []
    },
    {
      "cell_type": "code",
      "metadata": {
        "id": "6crMGeisD8VV"
      },
      "source": [
        "tokenizer = Tokenizer(num_words=None,\r\n",
        "                    filters='!\"#$%&()*+,-./:;<=>?@[\\\\]^`{|}~\\t\\n',\r\n",
        "                    lower=True,\r\n",
        "                    split=' ',\r\n",
        "                    char_level=False,\r\n",
        "                    oov_token=\"<UNK>\",\r\n",
        "                    document_count=0,)\r\n",
        "tr = train_df['brand_name'] \r\n",
        "te = test_df['brand_name'] \r\n",
        "\r\n",
        "tokenizer.fit_on_texts(tr)\r\n",
        "\r\n",
        "vocab_brand = len(tokenizer.word_index)+1\r\n",
        "\r\n",
        "train_brand = tokenizer.texts_to_sequences(tr)\r\n",
        "test_brand  = tokenizer.texts_to_sequences(te)\r\n",
        "\r\n",
        "train_brand_padded = pad_sequences(train_brand, maxlen=1, padding='post')\r\n",
        "test_brand_padded = pad_sequences(test_brand, maxlen=1, padding='post')\r\n"
      ],
      "execution_count": null,
      "outputs": []
    },
    {
      "cell_type": "code",
      "metadata": {
        "id": "b4gy5omgD8Zu"
      },
      "source": [
        "tokenizer = Tokenizer(num_words=None,\r\n",
        "                    filters='!\"#$%&()*+,-./:;<=>?@[\\\\]^`{|}~\\t\\n',\r\n",
        "                    lower=True,\r\n",
        "                    split=' ',\r\n",
        "                    char_level=False,\r\n",
        "                    oov_token=\"<UNK>\",\r\n",
        "                    document_count=0,)\r\n",
        "tr = train_df['item_description'] \r\n",
        "te = test_df['item_description'] \r\n",
        "\r\n",
        "tokenizer.fit_on_texts(tr)\r\n",
        "\r\n",
        "vocab_desc = len(tokenizer.word_index)+1\r\n",
        "\r\n",
        "train_desc = tokenizer.texts_to_sequences(tr)\r\n",
        "test_desc  = tokenizer.texts_to_sequences(te)\r\n",
        "\r\n",
        "train_desc_padded = pad_sequences(train_desc, maxlen=160, padding='post')\r\n",
        "test_desc_padded = pad_sequences(test_desc, maxlen=160, padding='post')\r\n"
      ],
      "execution_count": null,
      "outputs": []
    },
    {
      "cell_type": "code",
      "metadata": {
        "id": "FmF3z7AwD8c0"
      },
      "source": [
        "del train_desc\r\n",
        "del test_desc\r\n",
        "\r\n",
        "del train_name\r\n",
        "del test_name\r\n",
        "\r\n",
        "del train_brand\r\n",
        "del test_brand"
      ],
      "execution_count": null,
      "outputs": []
    },
    {
      "cell_type": "code",
      "metadata": {
        "id": "GAFjtBucD8f7"
      },
      "source": [
        "tokenizer = Tokenizer(num_words=None,\r\n",
        "                    filters='!\"#$%&()*+,-./:;<=>?@[\\\\]^`{|}~\\t\\n',\r\n",
        "                    lower=True,\r\n",
        "                    split=' ',\r\n",
        "                    char_level=False,\r\n",
        "                    oov_token=\"<UNK>\",\r\n",
        "                    document_count=0,)\r\n",
        "tr = train_df['category_name'] \r\n",
        "te = test_df['category_name'] \r\n",
        "\r\n",
        "tokenizer.fit_on_texts(tr)\r\n",
        "\r\n",
        "vocab_cat = len(tokenizer.word_index)+1\r\n",
        "\r\n",
        "train_cat = tokenizer.texts_to_sequences(tr)\r\n",
        "test_cat  = tokenizer.texts_to_sequences(te)\r\n",
        "\r\n",
        "train_cat_padded = pad_sequences(train_cat, maxlen=1, padding='post')\r\n",
        "test_cat_padded = pad_sequences(test_cat, maxlen=1, padding='post')"
      ],
      "execution_count": null,
      "outputs": []
    },
    {
      "cell_type": "code",
      "metadata": {
        "id": "DnPPhY7QD8ih"
      },
      "source": [
        "del train_cat\r\n",
        "del test_cat"
      ],
      "execution_count": null,
      "outputs": []
    },
    {
      "cell_type": "code",
      "metadata": {
        "id": "v-kp4dS6D8lY"
      },
      "source": [
        "tokenizer = Tokenizer(num_words=None,\r\n",
        "                    filters='!\"#$%&()*+,-./:;<=>?@[\\\\]^`{|}~\\t\\n',\r\n",
        "                    lower=True,\r\n",
        "                    split=' ',\r\n",
        "                    char_level=False,\r\n",
        "                    oov_token=\"<UNK>\",\r\n",
        "                    document_count=0,)\r\n",
        "tr = train_df['cat_1'] \r\n",
        "te = test_df['cat_1'] \r\n",
        "\r\n",
        "tokenizer.fit_on_texts(tr)\r\n",
        "\r\n",
        "vocab_cat1 = len(tokenizer.word_index)+1\r\n",
        "\r\n",
        "train_cat1 = tokenizer.texts_to_sequences(tr)\r\n",
        "test_cat1  = tokenizer.texts_to_sequences(te)\r\n",
        "\r\n",
        "train_cat1_padded = pad_sequences(train_cat1, maxlen=1, padding='post')\r\n",
        "test_cat1_padded = pad_sequences(test_cat1, maxlen=1, padding='post')"
      ],
      "execution_count": null,
      "outputs": []
    },
    {
      "cell_type": "code",
      "metadata": {
        "id": "JBSfhjp7D8oX"
      },
      "source": [
        "del train_cat1\r\n",
        "del test_cat1"
      ],
      "execution_count": null,
      "outputs": []
    },
    {
      "cell_type": "code",
      "metadata": {
        "id": "tZdevr9QEYrS"
      },
      "source": [
        "tokenizer = Tokenizer(num_words=None,\r\n",
        "                    filters='!\"#$%&()*+,-./:;<=>?@[\\\\]^`{|}~\\t\\n',\r\n",
        "                    lower=True,\r\n",
        "                    split=' ',\r\n",
        "                    char_level=False,\r\n",
        "                    oov_token=\"<UNK>\",\r\n",
        "                    document_count=0,)\r\n",
        "tr = train_df['cat_2'] \r\n",
        "te = test_df['cat_2'] \r\n",
        "\r\n",
        "tokenizer.fit_on_texts(tr)\r\n",
        "\r\n",
        "vocab_cat2 = len(tokenizer.word_index)+1\r\n",
        "\r\n",
        "train_cat2 = tokenizer.texts_to_sequences(tr)\r\n",
        "test_cat2  = tokenizer.texts_to_sequences(te)\r\n",
        "\r\n",
        "train_cat2_padded = pad_sequences(train_cat2, maxlen=1, padding='post')\r\n",
        "test_cat2_padded = pad_sequences(test_cat2, maxlen=1, padding='post')"
      ],
      "execution_count": null,
      "outputs": []
    },
    {
      "cell_type": "code",
      "metadata": {
        "id": "mxcKiV-MEYuK"
      },
      "source": [
        "del train_cat2\r\n",
        "del test_cat2"
      ],
      "execution_count": null,
      "outputs": []
    },
    {
      "cell_type": "code",
      "metadata": {
        "id": "PhxyQrlqEYwz"
      },
      "source": [
        "tokenizer = Tokenizer(num_words=None,\r\n",
        "                    filters='!\"#$%&()*+,-./:;<=>?@[\\\\]^`{|}~\\t\\n',\r\n",
        "                    lower=True,\r\n",
        "                    split=' ',\r\n",
        "                    char_level=False,\r\n",
        "                    oov_token=\"<UNK>\",\r\n",
        "                    document_count=0,)\r\n",
        "tr = train_df['cat_3'] \r\n",
        "te = test_df['cat_3'] \r\n",
        "\r\n",
        "tokenizer.fit_on_texts(tr)\r\n",
        "\r\n",
        "vocab_cat3 = len(tokenizer.word_index)+1\r\n",
        "\r\n",
        "train_cat3 = tokenizer.texts_to_sequences(tr)\r\n",
        "test_cat3  = tokenizer.texts_to_sequences(te)\r\n",
        "\r\n",
        "train_cat3_padded = pad_sequences(train_cat3, maxlen=1, padding='post')\r\n",
        "test_cat3_padded = pad_sequences(test_cat3, maxlen=1, padding='post')"
      ],
      "execution_count": null,
      "outputs": []
    },
    {
      "cell_type": "code",
      "metadata": {
        "id": "D8WbIBTeEYzu"
      },
      "source": [
        "del train_cat3\r\n",
        "del test_cat3"
      ],
      "execution_count": null,
      "outputs": []
    },
    {
      "cell_type": "code",
      "metadata": {
        "id": "vQxfJXppEY2n"
      },
      "source": [
        "# vect = LabelEncoder()\r\n",
        "\r\n",
        "train_cond = train_df['item_condition_id'].to_numpy().reshape(-1, 1)\r\n",
        "test_cond = test_df['item_condition_id'].to_numpy().reshape(-1, 1)\r\n",
        "\r\n"
      ],
      "execution_count": null,
      "outputs": []
    },
    {
      "cell_type": "code",
      "metadata": {
        "id": "nHqctK3GEhD4"
      },
      "source": [
        "# vect = LabelEncoder()\r\n",
        "\r\n",
        "train_ship = train_df['shipping'].to_numpy().reshape(-1, 1)\r\n",
        "test_ship = test_df['shipping'].to_numpy().reshape(-1, 1)"
      ],
      "execution_count": null,
      "outputs": []
    },
    {
      "cell_type": "code",
      "metadata": {
        "id": "kzidpPjwEtND"
      },
      "source": [
        "from sklearn.preprocessing import StandardScaler\r\n",
        "vect = StandardScaler()\r\n",
        "\r\n",
        "tr = (train_df['name'].str.count(\"\\s+\")+1).fillna(0).astype(np.int64)\r\n",
        "te = (test_df['name'].str.count(\"\\s+\")+1).fillna(0).astype(np.int64)\r\n",
        "## vect.fit_transform(tr.to_numpy().reshape(-1, 1))\r\n",
        "## vect.transform(te.to_numpy().reshape(-1, 1))\r\n",
        "\r\n",
        "train_name_wc = tr.to_numpy().reshape(-1, 1)\r\n",
        "test_name_wc = te.to_numpy().reshape(-1, 1)"
      ],
      "execution_count": null,
      "outputs": []
    },
    {
      "cell_type": "code",
      "metadata": {
        "id": "gAM9GTtwEtRx"
      },
      "source": [
        "from sklearn.preprocessing import StandardScaler\r\n",
        "vect = StandardScaler()\r\n",
        "\r\n",
        "tr = (train_df['item_description'].str.count(\"\\s+\")+1).fillna(0).astype(np.int64)\r\n",
        "te = (test_df['item_description'].str.count(\"\\s+\")+1).fillna(0).astype(np.int64)\r\n",
        "## vect.fit_transform(tr.to_numpy().reshape(-1, 1))\r\n",
        "## vect.transform(te.to_numpy().reshape(-1, 1))\r\n",
        "\r\n",
        "train_desc_wc = tr.to_numpy().reshape(-1,1)\r\n",
        "test_desc_wc = te.to_numpy().reshape(-1,1)"
      ],
      "execution_count": null,
      "outputs": []
    },
    {
      "cell_type": "code",
      "metadata": {
        "id": "68QwbUUCEtWM"
      },
      "source": [
        "train_df['name_brand_cat'] = train_df['name'].str.replace(\"no name\",\"\") + \" \" + train_df['brand_name'] + \" \" + train_df['category_name']\r\n",
        "test_df['name_brand_cat'] = test_df['name'].str.replace(\"no name\",\"\") + \" \" + test_df['brand_name'] + \" \" + test_df['category_name']"
      ],
      "execution_count": null,
      "outputs": []
    },
    {
      "cell_type": "code",
      "metadata": {
        "id": "Epu71iC5Ez1q"
      },
      "source": [
        "tokenizer = Tokenizer(num_words=None,\r\n",
        "                    filters='!\"#$%&()*+,-./:;<=>?@[\\\\]^`{|}~\\t\\n',\r\n",
        "                    lower=True,\r\n",
        "                    split=' ',\r\n",
        "                    char_level=False,\r\n",
        "                    oov_token=\"<UNK>\",\r\n",
        "                    document_count=0,)\r\n",
        "tr = train_df['name_brand_cat'] \r\n",
        "te = test_df['name_brand_cat']\r\n",
        "\r\n",
        "tokenizer.fit_on_texts(tr)\r\n",
        "\r\n",
        "vocab_name = len(tokenizer.word_index)+1\r\n",
        "\r\n",
        "train_name = tokenizer.texts_to_sequences(tr)\r\n",
        "test_name  = tokenizer.texts_to_sequences(te)\r\n",
        "\r\n",
        "train_name_padded = pad_sequences(train_name, maxlen=10, padding='post')\r\n",
        "test_name_padded = pad_sequences(test_name, maxlen=10, padding='post')\r\n"
      ],
      "execution_count": null,
      "outputs": []
    },
    {
      "cell_type": "code",
      "metadata": {
        "id": "mgaAZLmEEhHN"
      },
      "source": [
        "# train_cat_padded, test_cat_padded\r\n",
        "\r\n",
        "X_train = [train_name_padded, train_desc_padded,\r\n",
        "           \r\n",
        "           train_brand_padded, train_cat_padded,\r\n",
        "           \r\n",
        "           train_cat1_padded, train_cat2_padded, train_cat3_padded,\r\n",
        "           \r\n",
        "           train_ship, train_cond,\r\n",
        "           \r\n",
        "           ]\r\n",
        "\r\n",
        "\r\n",
        "X_test = [test_name_padded, test_desc_padded,\r\n",
        "          \r\n",
        "          test_brand_padded, test_cat_padded,\r\n",
        "          \r\n",
        "          test_cat1_padded, test_cat2_padded, test_cat3_padded,\r\n",
        "          \r\n",
        "          test_ship, test_cond,]\r\n",
        "\r\n"
      ],
      "execution_count": null,
      "outputs": []
    },
    {
      "cell_type": "code",
      "metadata": {
        "id": "1tBmQwYKEhKh",
        "colab": {
          "base_uri": "https://localhost:8080/"
        },
        "outputId": "7e9614bd-b093-4d3e-cb8c-e289e146e2bd"
      },
      "source": [
        "tf.keras.backend.clear_session()\r\n",
        "\r\n",
        "\r\n",
        "name = Input(shape=(10,), name=\"name\")\r\n",
        "desc = Input(shape=(160,), name=\"desc\")\r\n",
        "brand = Input(shape=(1,), name=\"brand\")\r\n",
        "cat = Input(shape=(1,), name=\"cat\")\r\n",
        "cat1 = Input(shape=(1,), name=\"cat1\")\r\n",
        "cat2 = Input(shape=(1,), name=\"cat2\")\r\n",
        "cat3 = Input(shape=(1,), name=\"cat3\")\r\n",
        "ship = Input(shape=(1,), name=\"ship\")\r\n",
        "cond = Input(shape=(1,), name=\"cond\")\r\n",
        "\r\n",
        "name_embd = Embedding(input_dim=vocab_name, output_dim=35, name=\"name_embd\") (name)\r\n",
        "desc_embd = Embedding(input_dim=vocab_desc, output_dim=45, name=\"desc_embd\") (desc)\r\n",
        "brand_embd = Embedding(input_dim=vocab_brand, output_dim=10, name=\"brand_embd\") (brand)\r\n",
        "cat_embd = Embedding(input_dim=vocab_cat, output_dim=10, name=\"cat_embd\") (cat)\r\n",
        "cat1_embd = Embedding(input_dim=vocab_cat1, output_dim=10, name=\"cat1_embd\") (cat1)\r\n",
        "cat2_embd = Embedding(input_dim=vocab_cat2, output_dim=10, name=\"cat2_embd\") (cat2)\r\n",
        "cat3_embd = Embedding(input_dim=vocab_cat3, output_dim=10, name=\"cat3_embd\") (cat3)\r\n",
        "ship_embd = Embedding(input_dim=3, output_dim=10, name=\"ship_embd\") (ship)\r\n",
        "cond_embd = Embedding(input_dim=6, output_dim=10, name=\"cond_embd\") (cond)\r\n",
        "\r\n",
        "name_lstm = GRU(units=30, )(name_embd)\r\n",
        "desc_lstm = GRU(units=50, )(desc_embd)\r\n",
        "\r\n",
        "brand_flat = Flatten()(brand_embd)\r\n",
        "cat1_flat = Flatten()(cat1_embd)\r\n",
        "cat2_flat = Flatten()(cat2_embd)\r\n",
        "cat3_flat = Flatten()(cat3_embd)\r\n",
        "ship_flat = Flatten()(ship_embd)\r\n",
        "cond_flat = Flatten()(cond_embd)\r\n",
        "\r\n",
        "# cat_flat\r\n",
        "\r\n",
        "concat = concatenate(inputs=[name_lstm, desc_lstm, brand_flat, cat1_flat, cat2_flat, cat3_flat, ship_flat, cond_flat,])\r\n",
        "out = BatchNormalization() (concat)\r\n",
        "\r\n",
        "out = Dense(units=512, activation='relu', kernel_initializer='he_normal', kernel_regularizer=l2(0.0001)) (concat)\r\n",
        "out = BatchNormalization() (out)\r\n",
        "\r\n",
        "out = Dense(units=128, activation='relu', kernel_initializer='he_normal', kernel_regularizer=l2(0.0001)) (concat)\r\n",
        "out = BatchNormalization() (out)\r\n",
        "\r\n",
        "out = Dense(units=64, activation='relu', kernel_initializer='he_normal', kernel_regularizer=l2(0.0001)) (concat)\r\n",
        "out = BatchNormalization() (out)\r\n",
        "\r\n",
        "out = Dense(units=1, kernel_initializer='normal')(out)\r\n",
        "\r\n",
        "\r\n",
        "model = Model([name, desc, brand,cat, cat1, cat2, cat3, ship, cond,], out)\r\n",
        "\r\n",
        "\r\n",
        "model.summary()\r\n",
        "\r\n"
      ],
      "execution_count": null,
      "outputs": [
        {
          "output_type": "stream",
          "text": [
            "Model: \"model\"\n",
            "__________________________________________________________________________________________________\n",
            "Layer (type)                    Output Shape         Param #     Connected to                     \n",
            "==================================================================================================\n",
            "name (InputLayer)               [(None, 10)]         0                                            \n",
            "__________________________________________________________________________________________________\n",
            "desc (InputLayer)               [(None, 160)]        0                                            \n",
            "__________________________________________________________________________________________________\n",
            "brand (InputLayer)              [(None, 1)]          0                                            \n",
            "__________________________________________________________________________________________________\n",
            "cat1 (InputLayer)               [(None, 1)]          0                                            \n",
            "__________________________________________________________________________________________________\n",
            "cat2 (InputLayer)               [(None, 1)]          0                                            \n",
            "__________________________________________________________________________________________________\n",
            "cat3 (InputLayer)               [(None, 1)]          0                                            \n",
            "__________________________________________________________________________________________________\n",
            "ship (InputLayer)               [(None, 1)]          0                                            \n",
            "__________________________________________________________________________________________________\n",
            "cond (InputLayer)               [(None, 1)]          0                                            \n",
            "__________________________________________________________________________________________________\n",
            "name_embd (Embedding)           (None, 10, 35)       3904985     name[0][0]                       \n",
            "__________________________________________________________________________________________________\n",
            "desc_embd (Embedding)           (None, 160, 45)      7300530     desc[0][0]                       \n",
            "__________________________________________________________________________________________________\n",
            "brand_embd (Embedding)          (None, 1, 10)        48050       brand[0][0]                      \n",
            "__________________________________________________________________________________________________\n",
            "cat1_embd (Embedding)           (None, 1, 10)        130         cat1[0][0]                       \n",
            "__________________________________________________________________________________________________\n",
            "cat2_embd (Embedding)           (None, 1, 10)        1150        cat2[0][0]                       \n",
            "__________________________________________________________________________________________________\n",
            "cat3_embd (Embedding)           (None, 1, 10)        8720        cat3[0][0]                       \n",
            "__________________________________________________________________________________________________\n",
            "ship_embd (Embedding)           (None, 1, 10)        30          ship[0][0]                       \n",
            "__________________________________________________________________________________________________\n",
            "cond_embd (Embedding)           (None, 1, 10)        60          cond[0][0]                       \n",
            "__________________________________________________________________________________________________\n",
            "gru (GRU)                       (None, 30)           6030        name_embd[0][0]                  \n",
            "__________________________________________________________________________________________________\n",
            "gru_1 (GRU)                     (None, 50)           14550       desc_embd[0][0]                  \n",
            "__________________________________________________________________________________________________\n",
            "flatten (Flatten)               (None, 10)           0           brand_embd[0][0]                 \n",
            "__________________________________________________________________________________________________\n",
            "flatten_1 (Flatten)             (None, 10)           0           cat1_embd[0][0]                  \n",
            "__________________________________________________________________________________________________\n",
            "flatten_2 (Flatten)             (None, 10)           0           cat2_embd[0][0]                  \n",
            "__________________________________________________________________________________________________\n",
            "flatten_3 (Flatten)             (None, 10)           0           cat3_embd[0][0]                  \n",
            "__________________________________________________________________________________________________\n",
            "flatten_4 (Flatten)             (None, 10)           0           ship_embd[0][0]                  \n",
            "__________________________________________________________________________________________________\n",
            "flatten_5 (Flatten)             (None, 10)           0           cond_embd[0][0]                  \n",
            "__________________________________________________________________________________________________\n",
            "concatenate (Concatenate)       (None, 140)          0           gru[0][0]                        \n",
            "                                                                 gru_1[0][0]                      \n",
            "                                                                 flatten[0][0]                    \n",
            "                                                                 flatten_1[0][0]                  \n",
            "                                                                 flatten_2[0][0]                  \n",
            "                                                                 flatten_3[0][0]                  \n",
            "                                                                 flatten_4[0][0]                  \n",
            "                                                                 flatten_5[0][0]                  \n",
            "__________________________________________________________________________________________________\n",
            "dense_2 (Dense)                 (None, 64)           9024        concatenate[0][0]                \n",
            "__________________________________________________________________________________________________\n",
            "batch_normalization_3 (BatchNor (None, 64)           256         dense_2[0][0]                    \n",
            "__________________________________________________________________________________________________\n",
            "cat (InputLayer)                [(None, 1)]          0                                            \n",
            "__________________________________________________________________________________________________\n",
            "dense_3 (Dense)                 (None, 1)            65          batch_normalization_3[0][0]      \n",
            "==================================================================================================\n",
            "Total params: 11,293,580\n",
            "Trainable params: 11,293,452\n",
            "Non-trainable params: 128\n",
            "__________________________________________________________________________________________________\n"
          ],
          "name": "stdout"
        }
      ]
    },
    {
      "cell_type": "code",
      "metadata": {
        "colab": {
          "base_uri": "https://localhost:8080/"
        },
        "id": "oQuj90SNEhOV",
        "outputId": "baa3fb5f-2b06-4aff-d45d-bc0aed064502"
      },
      "source": [
        "model.summary()"
      ],
      "execution_count": null,
      "outputs": [
        {
          "output_type": "stream",
          "text": [
            "Model: \"model\"\n",
            "__________________________________________________________________________________________________\n",
            "Layer (type)                    Output Shape         Param #     Connected to                     \n",
            "==================================================================================================\n",
            "name (InputLayer)               [(None, 10)]         0                                            \n",
            "__________________________________________________________________________________________________\n",
            "desc (InputLayer)               [(None, 160)]        0                                            \n",
            "__________________________________________________________________________________________________\n",
            "brand (InputLayer)              [(None, 1)]          0                                            \n",
            "__________________________________________________________________________________________________\n",
            "cat1 (InputLayer)               [(None, 1)]          0                                            \n",
            "__________________________________________________________________________________________________\n",
            "cat2 (InputLayer)               [(None, 1)]          0                                            \n",
            "__________________________________________________________________________________________________\n",
            "cat3 (InputLayer)               [(None, 1)]          0                                            \n",
            "__________________________________________________________________________________________________\n",
            "ship (InputLayer)               [(None, 1)]          0                                            \n",
            "__________________________________________________________________________________________________\n",
            "cond (InputLayer)               [(None, 1)]          0                                            \n",
            "__________________________________________________________________________________________________\n",
            "name_embd (Embedding)           (None, 10, 35)       3904985     name[0][0]                       \n",
            "__________________________________________________________________________________________________\n",
            "desc_embd (Embedding)           (None, 160, 45)      7300530     desc[0][0]                       \n",
            "__________________________________________________________________________________________________\n",
            "brand_embd (Embedding)          (None, 1, 10)        48050       brand[0][0]                      \n",
            "__________________________________________________________________________________________________\n",
            "cat1_embd (Embedding)           (None, 1, 10)        130         cat1[0][0]                       \n",
            "__________________________________________________________________________________________________\n",
            "cat2_embd (Embedding)           (None, 1, 10)        1150        cat2[0][0]                       \n",
            "__________________________________________________________________________________________________\n",
            "cat3_embd (Embedding)           (None, 1, 10)        8720        cat3[0][0]                       \n",
            "__________________________________________________________________________________________________\n",
            "ship_embd (Embedding)           (None, 1, 10)        30          ship[0][0]                       \n",
            "__________________________________________________________________________________________________\n",
            "cond_embd (Embedding)           (None, 1, 10)        60          cond[0][0]                       \n",
            "__________________________________________________________________________________________________\n",
            "gru (GRU)                       (None, 30)           6030        name_embd[0][0]                  \n",
            "__________________________________________________________________________________________________\n",
            "gru_1 (GRU)                     (None, 50)           14550       desc_embd[0][0]                  \n",
            "__________________________________________________________________________________________________\n",
            "flatten (Flatten)               (None, 10)           0           brand_embd[0][0]                 \n",
            "__________________________________________________________________________________________________\n",
            "flatten_1 (Flatten)             (None, 10)           0           cat1_embd[0][0]                  \n",
            "__________________________________________________________________________________________________\n",
            "flatten_2 (Flatten)             (None, 10)           0           cat2_embd[0][0]                  \n",
            "__________________________________________________________________________________________________\n",
            "flatten_3 (Flatten)             (None, 10)           0           cat3_embd[0][0]                  \n",
            "__________________________________________________________________________________________________\n",
            "flatten_4 (Flatten)             (None, 10)           0           ship_embd[0][0]                  \n",
            "__________________________________________________________________________________________________\n",
            "flatten_5 (Flatten)             (None, 10)           0           cond_embd[0][0]                  \n",
            "__________________________________________________________________________________________________\n",
            "concatenate (Concatenate)       (None, 140)          0           gru[0][0]                        \n",
            "                                                                 gru_1[0][0]                      \n",
            "                                                                 flatten[0][0]                    \n",
            "                                                                 flatten_1[0][0]                  \n",
            "                                                                 flatten_2[0][0]                  \n",
            "                                                                 flatten_3[0][0]                  \n",
            "                                                                 flatten_4[0][0]                  \n",
            "                                                                 flatten_5[0][0]                  \n",
            "__________________________________________________________________________________________________\n",
            "dense_2 (Dense)                 (None, 64)           9024        concatenate[0][0]                \n",
            "__________________________________________________________________________________________________\n",
            "batch_normalization_3 (BatchNor (None, 64)           256         dense_2[0][0]                    \n",
            "__________________________________________________________________________________________________\n",
            "cat (InputLayer)                [(None, 1)]          0                                            \n",
            "__________________________________________________________________________________________________\n",
            "dense_3 (Dense)                 (None, 1)            65          batch_normalization_3[0][0]      \n",
            "==================================================================================================\n",
            "Total params: 11,293,580\n",
            "Trainable params: 11,293,452\n",
            "Non-trainable params: 128\n",
            "__________________________________________________________________________________________________\n"
          ],
          "name": "stdout"
        }
      ]
    },
    {
      "cell_type": "code",
      "metadata": {
        "colab": {
          "base_uri": "https://localhost:8080/",
          "height": 500
        },
        "id": "NdGoOXf_aMKF",
        "outputId": "e5da6782-009a-495a-eace-bf1ea8d5c28d"
      },
      "source": [
        "plot_model(model, to_file=\"LSTM.png\",)"
      ],
      "execution_count": null,
      "outputs": [
        {
          "output_type": "execute_result",
          "data": {
            "image/png": "[encoded data removed]",
            "text/plain": [
              "<IPython.core.display.Image object>"
            ]
          },
          "metadata": {
            "tags": []
          },
          "execution_count": 31
        }
      ]
    },
    {
      "cell_type": "code",
      "metadata": {
        "id": "eiD5Gnd7EhR3"
      },
      "source": [
        "opt = keras.optimizers.Adam(lr=0.002)\r\n",
        "model.compile(optimizer=opt, loss='mse', metrics=[tf.keras.metrics.RootMeanSquaredError()])"
      ],
      "execution_count": null,
      "outputs": []
    },
    {
      "cell_type": "code",
      "metadata": {
        "colab": {
          "base_uri": "https://localhost:8080/"
        },
        "id": "VaZkGD6VEhV1",
        "outputId": "21a7694b-fd91-4135-f705-a39efde886ef"
      },
      "source": [
        "for batch in [2000, 2000, 1000, 1000, 1000, 1000]:\r\n",
        "\r\n",
        "  model.fit(X_train, y, batch_size=batch, epochs=1,\r\n",
        "                                    verbose=1,\r\n",
        "                                  shuffle=True,callbacks=[])"
      ],
      "execution_count": null,
      "outputs": [
        {
          "output_type": "stream",
          "text": [
            "741/741 [==============================] - 1459s 2s/step - loss: 2.2010 - root_mean_squared_error: 1.3663\n",
            "741/741 [==============================] - 1449s 2s/step - loss: 0.1910 - root_mean_squared_error: 0.4326\n",
            "1482/1482 [==============================] - 1559s 1s/step - loss: 0.1724 - root_mean_squared_error: 0.4117\n",
            "1482/1482 [==============================] - 1555s 1s/step - loss: 0.1492 - root_mean_squared_error: 0.3833\n",
            "1482/1482 [==============================] - 1547s 1s/step - loss: 0.1328 - root_mean_squared_error: 0.3619\n",
            "1482/1482 [==============================] - 1533s 1s/step - loss: 0.1201 - root_mean_squared_error: 0.3444\n"
          ],
          "name": "stdout"
        }
      ]
    },
    {
      "cell_type": "code",
      "metadata": {
        "id": "-JMAFyPlEY7i"
      },
      "source": [
        "y_test_pred = model.predict(X_test)"
      ],
      "execution_count": null,
      "outputs": []
    },
    {
      "cell_type": "code",
      "metadata": {
        "id": "tLzVP_FLFLbP"
      },
      "source": [
        "y_test_pred_anti_log = np.exp(y_test_pred) - 1"
      ],
      "execution_count": null,
      "outputs": []
    },
    {
      "cell_type": "code",
      "metadata": {
        "id": "ogM8HUrjFLe0",
        "colab": {
          "base_uri": "https://localhost:8080/"
        },
        "outputId": "6924e6ab-46a1-41b1-d8aa-b6ed323c3f38"
      },
      "source": [
        "y_test_pred_anti_log = y_test_pred_anti_log.reshape(1, -1)[0]\r\n",
        "y_test_pred_anti_log"
      ],
      "execution_count": null,
      "outputs": [
        {
          "output_type": "execute_result",
          "data": {
            "text/plain": [
              "array([ 6.0256023, 11.928355 , 46.03601  , ..., 16.904366 , 19.142557 ,\n",
              "       18.609331 ], dtype=float32)"
            ]
          },
          "metadata": {
            "tags": []
          },
          "execution_count": 42
        }
      ]
    },
    {
      "cell_type": "code",
      "metadata": {
        "id": "T_xoUBqWFLij"
      },
      "source": [
        "test_ids = test_df['test_id']"
      ],
      "execution_count": null,
      "outputs": []
    },
    {
      "cell_type": "code",
      "metadata": {
        "id": "3GRulPw1D8qq"
      },
      "source": [
        "submission_df = pd.DataFrame({\"test_id\":test_ids, \"price\":y_test_pred_anti_log})"
      ],
      "execution_count": null,
      "outputs": []
    },
    {
      "cell_type": "code",
      "metadata": {
        "id": "As4TJgmFFRfM"
      },
      "source": [
        "submission_df.to_csv(\"submission.csv\", index=False)"
      ],
      "execution_count": null,
      "outputs": []
    },
    {
      "cell_type": "code",
      "metadata": {
        "id": "dQ8l-zlMFRmx"
      },
      "source": [
        "submission_path   = \"/content/drive/MyDrive/CASE STUDY - 1/submission/LSTM Model/submission.csv\""
      ],
      "execution_count": null,
      "outputs": []
    },
    {
      "cell_type": "code",
      "metadata": {
        "id": "ob9ggu4RFV9w"
      },
      "source": [
        "submission_df.to_csv(submission_path, index=False)"
      ],
      "execution_count": null,
      "outputs": []
    },
    {
      "cell_type": "code",
      "metadata": {
        "id": "9orWIRZiLoCD"
      },
      "source": [
        "from IPython.display import Image"
      ],
      "execution_count": null,
      "outputs": []
    },
    {
      "cell_type": "code",
      "metadata": {
        "colab": {
          "base_uri": "https://localhost:8080/",
          "height": 744
        },
        "id": "xMCNXnCqMWPD",
        "outputId": "03b0e8af-090c-4d40-917d-0029562b79b3"
      },
      "source": [
        "Image(\"/content/drive/MyDrive/CASE STUDY - 1/submission/LSTM Model/Capture.PNG\")"
      ],
      "execution_count": null,
      "outputs": [
        {
          "output_type": "execute_result",
          "data": {
            "image/png": "[encoded data removed]",
            "text/plain": [
              "<IPython.core.display.Image object>"
            ]
          },
          "metadata": {
            "tags": []
          },
          "execution_count": 51
        }
      ]
    },
    {
      "cell_type": "code",
      "metadata": {
        "id": "bVlhYayIMdj2"
      },
      "source": [
        ""
      ],
      "execution_count": null,
      "outputs": []
    }
  ]
}